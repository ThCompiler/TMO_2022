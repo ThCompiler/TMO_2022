{
 "cells": [
  {
   "cell_type": "markdown",
   "id": "a70db39e-891c-4e25-af4a-fed012b0ab03",
   "metadata": {},
   "source": [
    "# Рубежный контроль №2"
   ]
  },
  {
   "cell_type": "markdown",
   "id": "4701192b-0a00-4dc8-9c19-bfa09bc5d250",
   "metadata": {},
   "source": [
    "### Загружаем библиотеки"
   ]
  },
  {
   "cell_type": "code",
   "execution_count": 38,
   "id": "3ed765b0-2d24-43fe-b4e0-f2f60b2c9b29",
   "metadata": {},
   "outputs": [],
   "source": [
    "import pandas as pd\n",
    "from sklearn.tree import DecisionTreeRegressor\n",
    "from sklearn.model_selection import train_test_split\n",
    "from sklearn.metrics import mean_absolute_error, mean_squared_error, r2_score\n",
    "from sklearn.preprocessing import LabelEncoder\n",
    "from io import StringIO\n",
    "from sklearn.tree import export_graphviz\n",
    "from sklearn.ensemble import RandomForestRegressor\n",
    "import pydotplus\n",
    "from IPython.display import Image\n",
    "import matplotlib.pyplot as plt"
   ]
  },
  {
   "cell_type": "markdown",
   "id": "30bb08ca-2671-45fd-a3e5-b319f4928978",
   "metadata": {},
   "source": [
    "### Загружаем данные"
   ]
  },
  {
   "cell_type": "code",
   "execution_count": 19,
   "id": "0e7d0d3b-6ad8-406f-abd7-d5e6d9485706",
   "metadata": {},
   "outputs": [],
   "source": [
    "df = pd.read_csv('Admission_Predict.csv')"
   ]
  },
  {
   "cell_type": "code",
   "execution_count": 20,
   "id": "2a982cfe-b55c-46fd-bdf9-ae289884cd1a",
   "metadata": {},
   "outputs": [
    {
     "data": {
      "text/html": [
       "<div>\n",
       "<style scoped>\n",
       "    .dataframe tbody tr th:only-of-type {\n",
       "        vertical-align: middle;\n",
       "    }\n",
       "\n",
       "    .dataframe tbody tr th {\n",
       "        vertical-align: top;\n",
       "    }\n",
       "\n",
       "    .dataframe thead th {\n",
       "        text-align: right;\n",
       "    }\n",
       "</style>\n",
       "<table border=\"1\" class=\"dataframe\">\n",
       "  <thead>\n",
       "    <tr style=\"text-align: right;\">\n",
       "      <th></th>\n",
       "      <th>Serial No.</th>\n",
       "      <th>GRE Score</th>\n",
       "      <th>TOEFL Score</th>\n",
       "      <th>University Rating</th>\n",
       "      <th>SOP</th>\n",
       "      <th>LOR</th>\n",
       "      <th>CGPA</th>\n",
       "      <th>Research</th>\n",
       "      <th>Chance of Admit</th>\n",
       "    </tr>\n",
       "  </thead>\n",
       "  <tbody>\n",
       "    <tr>\n",
       "      <th>0</th>\n",
       "      <td>1</td>\n",
       "      <td>337</td>\n",
       "      <td>118</td>\n",
       "      <td>4</td>\n",
       "      <td>4.5</td>\n",
       "      <td>4.5</td>\n",
       "      <td>9.65</td>\n",
       "      <td>1</td>\n",
       "      <td>0.92</td>\n",
       "    </tr>\n",
       "    <tr>\n",
       "      <th>1</th>\n",
       "      <td>2</td>\n",
       "      <td>324</td>\n",
       "      <td>107</td>\n",
       "      <td>4</td>\n",
       "      <td>4.0</td>\n",
       "      <td>4.5</td>\n",
       "      <td>8.87</td>\n",
       "      <td>1</td>\n",
       "      <td>0.76</td>\n",
       "    </tr>\n",
       "    <tr>\n",
       "      <th>2</th>\n",
       "      <td>3</td>\n",
       "      <td>316</td>\n",
       "      <td>104</td>\n",
       "      <td>3</td>\n",
       "      <td>3.0</td>\n",
       "      <td>3.5</td>\n",
       "      <td>8.00</td>\n",
       "      <td>1</td>\n",
       "      <td>0.72</td>\n",
       "    </tr>\n",
       "    <tr>\n",
       "      <th>3</th>\n",
       "      <td>4</td>\n",
       "      <td>322</td>\n",
       "      <td>110</td>\n",
       "      <td>3</td>\n",
       "      <td>3.5</td>\n",
       "      <td>2.5</td>\n",
       "      <td>8.67</td>\n",
       "      <td>1</td>\n",
       "      <td>0.80</td>\n",
       "    </tr>\n",
       "    <tr>\n",
       "      <th>4</th>\n",
       "      <td>5</td>\n",
       "      <td>314</td>\n",
       "      <td>103</td>\n",
       "      <td>2</td>\n",
       "      <td>2.0</td>\n",
       "      <td>3.0</td>\n",
       "      <td>8.21</td>\n",
       "      <td>0</td>\n",
       "      <td>0.65</td>\n",
       "    </tr>\n",
       "    <tr>\n",
       "      <th>...</th>\n",
       "      <td>...</td>\n",
       "      <td>...</td>\n",
       "      <td>...</td>\n",
       "      <td>...</td>\n",
       "      <td>...</td>\n",
       "      <td>...</td>\n",
       "      <td>...</td>\n",
       "      <td>...</td>\n",
       "      <td>...</td>\n",
       "    </tr>\n",
       "    <tr>\n",
       "      <th>395</th>\n",
       "      <td>396</td>\n",
       "      <td>324</td>\n",
       "      <td>110</td>\n",
       "      <td>3</td>\n",
       "      <td>3.5</td>\n",
       "      <td>3.5</td>\n",
       "      <td>9.04</td>\n",
       "      <td>1</td>\n",
       "      <td>0.82</td>\n",
       "    </tr>\n",
       "    <tr>\n",
       "      <th>396</th>\n",
       "      <td>397</td>\n",
       "      <td>325</td>\n",
       "      <td>107</td>\n",
       "      <td>3</td>\n",
       "      <td>3.0</td>\n",
       "      <td>3.5</td>\n",
       "      <td>9.11</td>\n",
       "      <td>1</td>\n",
       "      <td>0.84</td>\n",
       "    </tr>\n",
       "    <tr>\n",
       "      <th>397</th>\n",
       "      <td>398</td>\n",
       "      <td>330</td>\n",
       "      <td>116</td>\n",
       "      <td>4</td>\n",
       "      <td>5.0</td>\n",
       "      <td>4.5</td>\n",
       "      <td>9.45</td>\n",
       "      <td>1</td>\n",
       "      <td>0.91</td>\n",
       "    </tr>\n",
       "    <tr>\n",
       "      <th>398</th>\n",
       "      <td>399</td>\n",
       "      <td>312</td>\n",
       "      <td>103</td>\n",
       "      <td>3</td>\n",
       "      <td>3.5</td>\n",
       "      <td>4.0</td>\n",
       "      <td>8.78</td>\n",
       "      <td>0</td>\n",
       "      <td>0.67</td>\n",
       "    </tr>\n",
       "    <tr>\n",
       "      <th>399</th>\n",
       "      <td>400</td>\n",
       "      <td>333</td>\n",
       "      <td>117</td>\n",
       "      <td>4</td>\n",
       "      <td>5.0</td>\n",
       "      <td>4.0</td>\n",
       "      <td>9.66</td>\n",
       "      <td>1</td>\n",
       "      <td>0.95</td>\n",
       "    </tr>\n",
       "  </tbody>\n",
       "</table>\n",
       "<p>400 rows × 9 columns</p>\n",
       "</div>"
      ],
      "text/plain": [
       "     Serial No.  GRE Score  TOEFL Score  University Rating  SOP  LOR   CGPA  \\\n",
       "0             1        337          118                  4  4.5   4.5  9.65   \n",
       "1             2        324          107                  4  4.0   4.5  8.87   \n",
       "2             3        316          104                  3  3.0   3.5  8.00   \n",
       "3             4        322          110                  3  3.5   2.5  8.67   \n",
       "4             5        314          103                  2  2.0   3.0  8.21   \n",
       "..          ...        ...          ...                ...  ...   ...   ...   \n",
       "395         396        324          110                  3  3.5   3.5  9.04   \n",
       "396         397        325          107                  3  3.0   3.5  9.11   \n",
       "397         398        330          116                  4  5.0   4.5  9.45   \n",
       "398         399        312          103                  3  3.5   4.0  8.78   \n",
       "399         400        333          117                  4  5.0   4.0  9.66   \n",
       "\n",
       "     Research  Chance of Admit   \n",
       "0           1              0.92  \n",
       "1           1              0.76  \n",
       "2           1              0.72  \n",
       "3           1              0.80  \n",
       "4           0              0.65  \n",
       "..        ...               ...  \n",
       "395         1              0.82  \n",
       "396         1              0.84  \n",
       "397         1              0.91  \n",
       "398         0              0.67  \n",
       "399         1              0.95  \n",
       "\n",
       "[400 rows x 9 columns]"
      ]
     },
     "execution_count": 20,
     "metadata": {},
     "output_type": "execute_result"
    }
   ],
   "source": [
    "df"
   ]
  },
  {
   "cell_type": "markdown",
   "id": "a277300e-3b66-47a7-b641-a1e761102c8b",
   "metadata": {},
   "source": [
    "#### Разделим на обучающую и тестовую выборку"
   ]
  },
  {
   "cell_type": "code",
   "execution_count": 25,
   "id": "c2dca9e7-7298-486d-b4a1-4cd38ff86844",
   "metadata": {},
   "outputs": [],
   "source": [
    "df_X_train, df_X_test, df_y_train, df_y_test = train_test_split(\n",
    "    df.drop(columns='Chance of Admit '), df['Chance of Admit '], test_size=0.2, random_state=171)"
   ]
  },
  {
   "cell_type": "markdown",
   "id": "c7a3bf48-f6da-4396-9628-8ee613645ec0",
   "metadata": {},
   "source": [
    "### Дерево решений "
   ]
  },
  {
   "cell_type": "code",
   "execution_count": 32,
   "id": "7bf9a6ce-5a53-481f-a17e-3a646cb5af88",
   "metadata": {},
   "outputs": [
    {
     "data": {
      "text/plain": [
       "DecisionTreeRegressor()"
      ]
     },
     "execution_count": 32,
     "metadata": {},
     "output_type": "execute_result"
    }
   ],
   "source": [
    "tree = DecisionTreeRegressor()\n",
    "tree.fit(df_X_train, df_y_train)"
   ]
  },
  {
   "cell_type": "code",
   "execution_count": 33,
   "id": "e5fc55df-0589-40a3-8132-664c33b3b95d",
   "metadata": {},
   "outputs": [],
   "source": [
    "tree_predict = tree.predict(df_X_test)"
   ]
  },
  {
   "cell_type": "markdown",
   "id": "e5fda7a5-a2db-4def-8eae-3640a9569ad0",
   "metadata": {},
   "source": [
    "### Случаный лес"
   ]
  },
  {
   "cell_type": "code",
   "execution_count": 35,
   "id": "f7e6b3ed-0ee9-4400-8a72-5621d971fc23",
   "metadata": {},
   "outputs": [
    {
     "data": {
      "text/plain": [
       "RandomForestRegressor()"
      ]
     },
     "execution_count": 35,
     "metadata": {},
     "output_type": "execute_result"
    }
   ],
   "source": [
    "forest = RandomForestRegressor()\n",
    "forest.fit(df_X_train, df_y_train)"
   ]
  },
  {
   "cell_type": "code",
   "execution_count": 36,
   "id": "db5ce39f-3080-4602-8053-bd7d5dd305a6",
   "metadata": {},
   "outputs": [],
   "source": [
    "forest_predict = forest.predict(df_X_test)"
   ]
  },
  {
   "cell_type": "markdown",
   "id": "d340e597-4051-44fd-a0e9-d4fa6b6ef86f",
   "metadata": {},
   "source": [
    "### Оценка моделей"
   ]
  },
  {
   "cell_type": "markdown",
   "id": "b8926229-c72c-4c48-b936-a138ba977aef",
   "metadata": {},
   "source": [
    "Для оценки будем использовать три метрики: **Средняя квадратичная ошибка**, **Средняя абсолютная ошибка**, **R2 score**."
   ]
  },
  {
   "cell_type": "code",
   "execution_count": 37,
   "id": "85197d45-7a13-43e7-80f9-5f65b71d68e5",
   "metadata": {},
   "outputs": [],
   "source": [
    "def plot_metrics(metrics, models, test_y):\n",
    "    for name, fun in metrics.items():\n",
    "        fig, ax = plt.subplots(figsize=(10,10))\n",
    "        results_metrics = []\n",
    "        \n",
    "        for nm, results in models.items():\n",
    "            results_metrics.append(fun(test_y, results))\n",
    "    \n",
    "        sorted_el = list(sorted(list(zip(models.keys(), results_metrics)), key=lambda x: -x[1]))\n",
    "        results_metrics = list(map(lambda x: x[1], sorted_el))\n",
    "        model_list = list(map(lambda x: x[0], sorted_el))\n",
    "        \n",
    "        pos = np.arange(len(model_list))\n",
    "        rects = ax.barh(pos, results_metrics,\n",
    "                     align='center',\n",
    "                     height=0.5, \n",
    "                     tick_label=model_list)\n",
    "        ax.set_title(name)\n",
    "        for a, b in zip(pos, results_metrics):\n",
    "            plt.text(max(results_metrics) * 0.1, a-0.05, str(round(b,6)), color='black')\n",
    "        plt.show() "
   ]
  },
  {
   "cell_type": "code",
   "execution_count": 39,
   "id": "7edc1c89-2424-47ba-b23e-ed4874bea725",
   "metadata": {},
   "outputs": [
    {
     "data": {
      "image/png": "[encoded data removed]",
      "text/plain": [
       "<Figure size 720x720 with 1 Axes>"
      ]
     },
     "metadata": {},
     "output_type": "display_data"
    },
    {
     "data": {
      "image/png": "[encoded data removed]",
      "text/plain": [
       "<Figure size 720x720 with 1 Axes>"
      ]
     },
     "metadata": {},
     "output_type": "display_data"
    },
    {
     "data": {
      "image/png": "[encoded data removed]",
      "text/plain": [
       "<Figure size 720x720 with 1 Axes>"
      ]
     },
     "metadata": {},
     "output_type": "display_data"
    }
   ],
   "source": [
    "metrics = {\n",
    "    'mean_squared':mean_squared_error,\n",
    "    'mean_absolute':mean_absolute_error,\n",
    "    'r2_score':r2_score\n",
    "}\n",
    "\n",
    "predictions = {\n",
    "    'decision tree': tree_predict,\n",
    "    'random forest': forest_predict\n",
    "}\n",
    "\n",
    "plot_metrics(metrics, predictions, df_y_test)"
   ]
  },
  {
   "cell_type": "markdown",
   "id": "689e7708-f075-40ef-82c7-9b9a32ebf26d",
   "metadata": {},
   "source": [
    "Случаный лес лучше работает на данном наборе данных, что логично т.к. она явялется ансамблей моделей."
   ]
  },
  {
   "cell_type": "code",
   "execution_count": null,
   "id": "d6b8bbd5-04e5-481e-b238-edf5b82bcef3",
   "metadata": {},
   "outputs": [],
   "source": []
  }
 ],
 "metadata": {
  "kernelspec": {
   "display_name": "Python 3 (ipykernel)",
   "language": "python",
   "name": "python3"
  },
  "language_info": {
   "codemirror_mode": {
    "name": "ipython",
    "version": 3
   },
   "file_extension": ".py",
   "mimetype": "text/x-python",
   "name": "python",
   "nbconvert_exporter": "python",
   "pygments_lexer": "ipython3",
   "version": "3.9.12"
  }
 },
 "nbformat": 4,
 "nbformat_minor": 5
}
