{
 "cells": [
  {
   "cell_type": "markdown",
   "id": "73c1dde8-5459-4bc3-aef6-c9fc5bd402b2",
   "metadata": {},
   "source": [
    "# Ансамбли моделей машинного обучения."
   ]
  },
  {
   "cell_type": "markdown",
   "id": "1f2836ef-dd4e-4aaa-bcfc-8c067dad9513",
   "metadata": {
    "tags": []
   },
   "source": [
    "### Импорт библиотек"
   ]
  },
  {
   "cell_type": "code",
   "execution_count": 19,
   "id": "4cee756c-563e-41dd-9367-690648317464",
   "metadata": {},
   "outputs": [],
   "source": [
    "import numpy as np\n",
    "import pandas as pd\n",
    "from io import StringIO \n",
    "from IPython.display import Image\n",
    "from heamy.dataset import Dataset\n",
    "from heamy.estimator import Regressor, Classifier\n",
    "from heamy.pipeline import ModelsPipeline\n",
    "from gmdhpy import gmdh\n",
    "import pydotplus\n",
    "import seaborn as sns\n",
    "import xgboost as xgb\n",
    "from sklearn.linear_model import LinearRegression\n",
    "from sklearn.model_selection import train_test_split\n",
    "from sklearn.metrics import make_scorer\n",
    "from sklearn.pipeline import Pipeline\n",
    "from sklearn.tree import DecisionTreeRegressor, export_graphviz\n",
    "from sklearn.ensemble import RandomForestRegressor\n",
    "from sklearn.preprocessing import PolynomialFeatures\n",
    "from sklearn.metrics import mean_squared_error, r2_score \n",
    "import tensorflow as tf\n",
    "from tensorflow import keras\n",
    "from tensorflow.keras import layers\n",
    "from sklearn.svm import SVR\n",
    "import operator\n",
    "import matplotlib.pyplot as plt\n",
    "%matplotlib inline \n",
    "from sklearn.datasets import *\n",
    "sns.set(style=\"ticks\")"
   ]
  },
  {
   "cell_type": "markdown",
   "id": "453ae7be-773f-45b9-9a3a-b963c9edf1c4",
   "metadata": {},
   "source": [
    "### Загрузка данных\n",
    "\n",
    "В качестве набора данных мы будем использовать набор данных о заболеваемости диабетом из пакета sklearn.\n",
    "Загрузим файлы датасета из библиатеке `sklearn.datasets`, и преобразуем в `DataFrame` библиотеки *Pandas*.\n"
   ]
  },
  {
   "cell_type": "code",
   "execution_count": 2,
   "id": "0e0bf5d6-a1e9-4496-b51d-400e912fb02f",
   "metadata": {},
   "outputs": [
    {
     "data": {
      "text/plain": [
       "age       442\n",
       "sex       442\n",
       "bmi       442\n",
       "bp        442\n",
       "s1        442\n",
       "s2        442\n",
       "s3        442\n",
       "s4        442\n",
       "s5        442\n",
       "s6        442\n",
       "target    442\n",
       "dtype: int64"
      ]
     },
     "execution_count": 2,
     "metadata": {},
     "output_type": "execute_result"
    }
   ],
   "source": [
    "ds = load_diabetes()\n",
    "df = pd.DataFrame(data= np.c_[ds['data'], ds['target']],\n",
    "                 columns= list(ds['feature_names']) + ['target'])\n",
    "df.count()"
   ]
  },
  {
   "cell_type": "code",
   "execution_count": 3,
   "id": "4dc6b0ff-3e1d-45b3-9c8f-d0399a710b6d",
   "metadata": {},
   "outputs": [
    {
     "data": {
      "text/html": [
       "<div>\n",
       "<style scoped>\n",
       "    .dataframe tbody tr th:only-of-type {\n",
       "        vertical-align: middle;\n",
       "    }\n",
       "\n",
       "    .dataframe tbody tr th {\n",
       "        vertical-align: top;\n",
       "    }\n",
       "\n",
       "    .dataframe thead th {\n",
       "        text-align: right;\n",
       "    }\n",
       "</style>\n",
       "<table border=\"1\" class=\"dataframe\">\n",
       "  <thead>\n",
       "    <tr style=\"text-align: right;\">\n",
       "      <th></th>\n",
       "      <th>age</th>\n",
       "      <th>sex</th>\n",
       "      <th>bmi</th>\n",
       "      <th>bp</th>\n",
       "      <th>s1</th>\n",
       "      <th>s2</th>\n",
       "      <th>s3</th>\n",
       "      <th>s4</th>\n",
       "      <th>s5</th>\n",
       "      <th>s6</th>\n",
       "      <th>target</th>\n",
       "    </tr>\n",
       "  </thead>\n",
       "  <tbody>\n",
       "    <tr>\n",
       "      <th>age</th>\n",
       "      <td>1.000000</td>\n",
       "      <td>0.173737</td>\n",
       "      <td>0.185085</td>\n",
       "      <td>0.335427</td>\n",
       "      <td>0.260061</td>\n",
       "      <td>0.219243</td>\n",
       "      <td>-0.075181</td>\n",
       "      <td>0.203841</td>\n",
       "      <td>0.270777</td>\n",
       "      <td>0.301731</td>\n",
       "      <td>0.187889</td>\n",
       "    </tr>\n",
       "    <tr>\n",
       "      <th>sex</th>\n",
       "      <td>0.173737</td>\n",
       "      <td>1.000000</td>\n",
       "      <td>0.088161</td>\n",
       "      <td>0.241013</td>\n",
       "      <td>0.035277</td>\n",
       "      <td>0.142637</td>\n",
       "      <td>-0.379090</td>\n",
       "      <td>0.332115</td>\n",
       "      <td>0.149918</td>\n",
       "      <td>0.208133</td>\n",
       "      <td>0.043062</td>\n",
       "    </tr>\n",
       "    <tr>\n",
       "      <th>bmi</th>\n",
       "      <td>0.185085</td>\n",
       "      <td>0.088161</td>\n",
       "      <td>1.000000</td>\n",
       "      <td>0.395415</td>\n",
       "      <td>0.249777</td>\n",
       "      <td>0.261170</td>\n",
       "      <td>-0.366811</td>\n",
       "      <td>0.413807</td>\n",
       "      <td>0.446159</td>\n",
       "      <td>0.388680</td>\n",
       "      <td>0.586450</td>\n",
       "    </tr>\n",
       "    <tr>\n",
       "      <th>bp</th>\n",
       "      <td>0.335427</td>\n",
       "      <td>0.241013</td>\n",
       "      <td>0.395415</td>\n",
       "      <td>1.000000</td>\n",
       "      <td>0.242470</td>\n",
       "      <td>0.185558</td>\n",
       "      <td>-0.178761</td>\n",
       "      <td>0.257653</td>\n",
       "      <td>0.393478</td>\n",
       "      <td>0.390429</td>\n",
       "      <td>0.441484</td>\n",
       "    </tr>\n",
       "    <tr>\n",
       "      <th>s1</th>\n",
       "      <td>0.260061</td>\n",
       "      <td>0.035277</td>\n",
       "      <td>0.249777</td>\n",
       "      <td>0.242470</td>\n",
       "      <td>1.000000</td>\n",
       "      <td>0.896663</td>\n",
       "      <td>0.051519</td>\n",
       "      <td>0.542207</td>\n",
       "      <td>0.515501</td>\n",
       "      <td>0.325717</td>\n",
       "      <td>0.212022</td>\n",
       "    </tr>\n",
       "    <tr>\n",
       "      <th>s2</th>\n",
       "      <td>0.219243</td>\n",
       "      <td>0.142637</td>\n",
       "      <td>0.261170</td>\n",
       "      <td>0.185558</td>\n",
       "      <td>0.896663</td>\n",
       "      <td>1.000000</td>\n",
       "      <td>-0.196455</td>\n",
       "      <td>0.659817</td>\n",
       "      <td>0.318353</td>\n",
       "      <td>0.290600</td>\n",
       "      <td>0.174054</td>\n",
       "    </tr>\n",
       "    <tr>\n",
       "      <th>s3</th>\n",
       "      <td>-0.075181</td>\n",
       "      <td>-0.379090</td>\n",
       "      <td>-0.366811</td>\n",
       "      <td>-0.178761</td>\n",
       "      <td>0.051519</td>\n",
       "      <td>-0.196455</td>\n",
       "      <td>1.000000</td>\n",
       "      <td>-0.738493</td>\n",
       "      <td>-0.398577</td>\n",
       "      <td>-0.273697</td>\n",
       "      <td>-0.394789</td>\n",
       "    </tr>\n",
       "    <tr>\n",
       "      <th>s4</th>\n",
       "      <td>0.203841</td>\n",
       "      <td>0.332115</td>\n",
       "      <td>0.413807</td>\n",
       "      <td>0.257653</td>\n",
       "      <td>0.542207</td>\n",
       "      <td>0.659817</td>\n",
       "      <td>-0.738493</td>\n",
       "      <td>1.000000</td>\n",
       "      <td>0.617857</td>\n",
       "      <td>0.417212</td>\n",
       "      <td>0.430453</td>\n",
       "    </tr>\n",
       "    <tr>\n",
       "      <th>s5</th>\n",
       "      <td>0.270777</td>\n",
       "      <td>0.149918</td>\n",
       "      <td>0.446159</td>\n",
       "      <td>0.393478</td>\n",
       "      <td>0.515501</td>\n",
       "      <td>0.318353</td>\n",
       "      <td>-0.398577</td>\n",
       "      <td>0.617857</td>\n",
       "      <td>1.000000</td>\n",
       "      <td>0.464670</td>\n",
       "      <td>0.565883</td>\n",
       "    </tr>\n",
       "    <tr>\n",
       "      <th>s6</th>\n",
       "      <td>0.301731</td>\n",
       "      <td>0.208133</td>\n",
       "      <td>0.388680</td>\n",
       "      <td>0.390429</td>\n",
       "      <td>0.325717</td>\n",
       "      <td>0.290600</td>\n",
       "      <td>-0.273697</td>\n",
       "      <td>0.417212</td>\n",
       "      <td>0.464670</td>\n",
       "      <td>1.000000</td>\n",
       "      <td>0.382483</td>\n",
       "    </tr>\n",
       "    <tr>\n",
       "      <th>target</th>\n",
       "      <td>0.187889</td>\n",
       "      <td>0.043062</td>\n",
       "      <td>0.586450</td>\n",
       "      <td>0.441484</td>\n",
       "      <td>0.212022</td>\n",
       "      <td>0.174054</td>\n",
       "      <td>-0.394789</td>\n",
       "      <td>0.430453</td>\n",
       "      <td>0.565883</td>\n",
       "      <td>0.382483</td>\n",
       "      <td>1.000000</td>\n",
       "    </tr>\n",
       "  </tbody>\n",
       "</table>\n",
       "</div>"
      ],
      "text/plain": [
       "             age       sex       bmi        bp        s1        s2        s3  \\\n",
       "age     1.000000  0.173737  0.185085  0.335427  0.260061  0.219243 -0.075181   \n",
       "sex     0.173737  1.000000  0.088161  0.241013  0.035277  0.142637 -0.379090   \n",
       "bmi     0.185085  0.088161  1.000000  0.395415  0.249777  0.261170 -0.366811   \n",
       "bp      0.335427  0.241013  0.395415  1.000000  0.242470  0.185558 -0.178761   \n",
       "s1      0.260061  0.035277  0.249777  0.242470  1.000000  0.896663  0.051519   \n",
       "s2      0.219243  0.142637  0.261170  0.185558  0.896663  1.000000 -0.196455   \n",
       "s3     -0.075181 -0.379090 -0.366811 -0.178761  0.051519 -0.196455  1.000000   \n",
       "s4      0.203841  0.332115  0.413807  0.257653  0.542207  0.659817 -0.738493   \n",
       "s5      0.270777  0.149918  0.446159  0.393478  0.515501  0.318353 -0.398577   \n",
       "s6      0.301731  0.208133  0.388680  0.390429  0.325717  0.290600 -0.273697   \n",
       "target  0.187889  0.043062  0.586450  0.441484  0.212022  0.174054 -0.394789   \n",
       "\n",
       "              s4        s5        s6    target  \n",
       "age     0.203841  0.270777  0.301731  0.187889  \n",
       "sex     0.332115  0.149918  0.208133  0.043062  \n",
       "bmi     0.413807  0.446159  0.388680  0.586450  \n",
       "bp      0.257653  0.393478  0.390429  0.441484  \n",
       "s1      0.542207  0.515501  0.325717  0.212022  \n",
       "s2      0.659817  0.318353  0.290600  0.174054  \n",
       "s3     -0.738493 -0.398577 -0.273697 -0.394789  \n",
       "s4      1.000000  0.617857  0.417212  0.430453  \n",
       "s5      0.617857  1.000000  0.464670  0.565883  \n",
       "s6      0.417212  0.464670  1.000000  0.382483  \n",
       "target  0.430453  0.565883  0.382483  1.000000  "
      ]
     },
     "execution_count": 3,
     "metadata": {},
     "output_type": "execute_result"
    }
   ],
   "source": [
    "df.corr()"
   ]
  },
  {
   "cell_type": "code",
   "execution_count": 4,
   "id": "0d6a2dec-9f48-49a0-afc4-dc38a0285937",
   "metadata": {},
   "outputs": [
    {
     "data": {
      "text/plain": [
       "age       0\n",
       "sex       0\n",
       "bmi       0\n",
       "bp        0\n",
       "s1        0\n",
       "s2        0\n",
       "s3        0\n",
       "s4        0\n",
       "s5        0\n",
       "s6        0\n",
       "target    0\n",
       "dtype: int64"
      ]
     },
     "execution_count": 4,
     "metadata": {},
     "output_type": "execute_result"
    }
   ],
   "source": [
    "df.isnull().sum()"
   ]
  },
  {
   "cell_type": "markdown",
   "id": "9a00adab-adcd-4bcf-99aa-c29497d85958",
   "metadata": {},
   "source": [
    "### Подготовка данных"
   ]
  },
  {
   "cell_type": "markdown",
   "id": "b62ee309-fe5d-4c46-922b-517078a671d3",
   "metadata": {},
   "source": [
    "Поделим данные на тестовую и тренеровочную выборку в пропорции 1 к 4"
   ]
  },
  {
   "cell_type": "code",
   "execution_count": 5,
   "id": "9d5ccaaa-f68c-49fa-8ef2-dd0ad1d16078",
   "metadata": {},
   "outputs": [],
   "source": [
    "df_X_train, df_X_test, df_y_train, df_y_test = train_test_split(\n",
    "    df.drop(columns='target'), df['target'], test_size=0.2, random_state=12)"
   ]
  },
  {
   "cell_type": "markdown",
   "id": "92346070-1373-4c67-a459-ef1ce28e7e45",
   "metadata": {},
   "source": [
    "### Случаный лес"
   ]
  },
  {
   "cell_type": "code",
   "execution_count": 6,
   "id": "14b495f3-24a7-4d33-806f-edd957ffb28e",
   "metadata": {},
   "outputs": [],
   "source": [
    "tree = RandomForestRegressor(n_estimators=10, random_state=12)\n",
    "tree.fit(df_X_train, df_y_train)\n",
    "tree_y = tree.predict(df_X_test)"
   ]
  },
  {
   "cell_type": "code",
   "execution_count": 7,
   "id": "e347603e-9820-43d9-b6a8-f7d3bcb42452",
   "metadata": {},
   "outputs": [
    {
     "data": {
      "text/plain": [
       "array([184.2, 136.3, 143.7, 114.2, 194.2, 160. ,  71.1, 245.4, 136.7,\n",
       "       243.8, 260.5, 201.4, 161. , 154.4, 105.5, 224.8, 173.3,  66.5,\n",
       "       199. , 152.2, 156.2, 122. , 261.1, 142.5, 157.8, 108.8, 156. ,\n",
       "       126.6,  68. , 144.4, 174.4, 162.7, 181.5,  93.4, 117.1, 191.8,\n",
       "       112.1, 212.8, 222.9, 191. , 236.7, 200.5, 123.4,  77. , 182.3,\n",
       "        76.6, 223.3,  80.9, 263.9, 290.8,  95.8, 172.5, 214.2, 181.3,\n",
       "       150.5, 132.3, 142.8, 205.9, 225. , 238.1, 266.8, 101. , 140.8,\n",
       "       113.8,  76.5,  71.1, 139.7, 216.7, 100.7, 155.6,  85.8,  72.2,\n",
       "        79.9,  82. , 123.8, 190.6, 126.7, 129.6, 152.8, 181.6, 117.5,\n",
       "       179. ,  91.2,  84.9, 100.2, 174.3, 244.2, 148.2,  56.2])"
      ]
     },
     "execution_count": 7,
     "metadata": {},
     "output_type": "execute_result"
    }
   ],
   "source": [
    "tree_y"
   ]
  },
  {
   "cell_type": "markdown",
   "id": "1ad81e0a-8d91-431a-8285-198e54767943",
   "metadata": {},
   "source": [
    "### Бустинг"
   ]
  },
  {
   "cell_type": "code",
   "execution_count": 8,
   "id": "558727ed-ea09-44b1-8d09-61e189834ec6",
   "metadata": {},
   "outputs": [
    {
     "name": "stdout",
     "output_type": "stream",
     "text": [
      "[0]\tvalidation_0-rmse:126.78217\n",
      "[1]\tvalidation_0-rmse:95.65629\n",
      "[2]\tvalidation_0-rmse:73.21293\n",
      "[3]\tvalidation_0-rmse:57.39291\n",
      "[4]\tvalidation_0-rmse:46.06264\n",
      "[5]\tvalidation_0-rmse:38.16575\n",
      "[6]\tvalidation_0-rmse:32.10063\n",
      "[7]\tvalidation_0-rmse:27.78214\n",
      "[8]\tvalidation_0-rmse:23.98275\n",
      "[9]\tvalidation_0-rmse:21.76612\n"
     ]
    },
    {
     "name": "stderr",
     "output_type": "stream",
     "text": [
      "D:\\anaconda3\\lib\\site-packages\\xgboost\\data.py:250: FutureWarning: pandas.Int64Index is deprecated and will be removed from pandas in a future version. Use pandas.Index with the appropriate dtype instead.\n",
      "  elif isinstance(data.columns, (pd.Int64Index, pd.RangeIndex)):\n"
     ]
    }
   ],
   "source": [
    "reg = xgb.XGBRegressor(\n",
    "    n_estimators=10,\n",
    "    eval_metric=mean_squared_error,\n",
    ")\n",
    "reg.fit(df_X_train, df_y_train, eval_set=[(df_X_train, df_y_train)])\n",
    "reg_y = reg.predict(df_X_test)"
   ]
  },
  {
   "cell_type": "code",
   "execution_count": 9,
   "id": "cc03dbb2-5087-45ae-95fc-ae7b94b4677c",
   "metadata": {},
   "outputs": [
    {
     "data": {
      "text/plain": [
       "array([149.30428 , 105.880424, 145.81374 , 102.04156 , 174.46553 ,\n",
       "       114.801186, 110.59888 , 243.877   , 154.5212  , 237.16719 ,\n",
       "       222.18236 , 217.16653 , 150.85403 , 134.93927 ,  95.98342 ,\n",
       "       237.88918 , 180.51299 ,  83.54547 , 207.24379 , 109.5174  ,\n",
       "       142.41653 , 119.48074 , 239.61699 , 103.94377 , 155.80708 ,\n",
       "       130.35544 , 102.680244,  89.2868  ,  76.83893 , 145.3199  ,\n",
       "       104.73179 , 145.29933 , 134.9832  , 120.21382 ,  85.30003 ,\n",
       "       168.91045 ,  76.302284, 209.41447 , 228.50658 , 179.25017 ,\n",
       "       202.60506 , 186.886   ,  85.2626  , 101.48372 , 173.86761 ,\n",
       "        73.36852 , 214.41394 ,  84.811356, 232.04376 , 272.86478 ,\n",
       "       101.107605, 146.30386 , 185.52725 , 171.97969 , 142.88792 ,\n",
       "       112.13408 , 123.32981 , 248.35106 , 223.41351 , 244.65875 ,\n",
       "       247.1172  ,  69.80298 , 153.20953 ,  87.67907 ,  92.2524  ,\n",
       "        83.07777 ,  85.56129 , 217.9154  ,  94.80268 , 129.47073 ,\n",
       "        83.429146,  83.567856,  82.01156 ,  52.425613,  99.1951  ,\n",
       "       143.71127 , 154.04832 , 115.452675, 132.10777 , 186.45786 ,\n",
       "       102.96815 , 208.654   ,  74.69237 ,  78.96792 ,  96.96595 ,\n",
       "       137.61682 , 213.70499 , 121.17906 ,  57.572853], dtype=float32)"
      ]
     },
     "execution_count": 9,
     "metadata": {},
     "output_type": "execute_result"
    }
   ],
   "source": [
    "reg_y"
   ]
  },
  {
   "cell_type": "markdown",
   "id": "6c0a75f4-7549-441c-9981-6482d5d6b78e",
   "metadata": {},
   "source": [
    "### Стекинг"
   ]
  },
  {
   "cell_type": "code",
   "execution_count": 10,
   "id": "030d8635-4e2f-4825-83e8-12f17fe36fca",
   "metadata": {},
   "outputs": [
    {
     "name": "stdout",
     "output_type": "stream",
     "text": [
      "Metric: mean_squared_error\n",
      "Folds accuracy: [7022.25, 12363.958333333334, 5662.666666666667, 6137.416666666667, 8583.041666666666, 7334.791666666667, 5365.958333333333, 7370.333333333333, 6070.95652173913, 4447.173913043478, 4680.826086956522, 4341.521739130435, 8708.91304347826, 4379.521739130435, 4062.6521739130435]\n",
      "Mean accuracy: 6435.465458937198\n",
      "Standard Deviation: 2163.197180008688\n",
      "Variance: 4679422.03959754\n"
     ]
    }
   ],
   "source": [
    "dataset = Dataset(df_X_train, df_y_train, df_X_test)\n",
    "\n",
    "model_rf = Regressor(dataset=dataset, estimator=RandomForestRegressor, parameters={'n_estimators': 10},name='rf')\n",
    "model_lr = Regressor(dataset=dataset, estimator=LinearRegression, parameters={'normalize': True},name='lr')\n",
    "\n",
    "pipeline = ModelsPipeline(model_rf, model_lr)\n",
    "stack_ds = pipeline.stack(k=15, seed=111)\n",
    "\n",
    "stacker = Regressor(dataset=stack_ds, estimator=DecisionTreeRegressor)\n",
    "stacker_y = stacker.predict()\n",
    "results = stacker.validate(k=15, scorer=mean_squared_error)"
   ]
  },
  {
   "cell_type": "code",
   "execution_count": 11,
   "id": "8bde4c01-acf8-45ce-938b-8df46df8aa48",
   "metadata": {},
   "outputs": [
    {
     "data": {
      "text/plain": [
       "array([237., 170., 302., 137., 189., 124.,  79., 129., 244., 212., 277.,\n",
       "       288., 263., 103.,  78., 275., 214.,  59.,  85., 144., 201.,  55.,\n",
       "       243., 144.,  60.,  50., 262., 200., 128.,  71.,  91., 109., 138.,\n",
       "        68.,  37., 222., 137., 233., 258., 172., 257., 192., 150., 114.,\n",
       "       118., 129., 197.,  64., 258., 245.,  60.,  68., 189., 235., 185.,\n",
       "       172., 198., 233., 275., 164., 242., 131., 110.,  87.,  45.,  63.,\n",
       "       136., 232., 160., 272., 137.,  64.,  90.,  65.,  78., 131., 277.,\n",
       "       113., 164., 265.,  71., 110., 135.,  91., 200., 128., 173.,  78.,\n",
       "       104.])"
      ]
     },
     "execution_count": 11,
     "metadata": {},
     "output_type": "execute_result"
    }
   ],
   "source": [
    "stacker_y"
   ]
  },
  {
   "cell_type": "markdown",
   "id": "7e5f398c-d4fd-45c3-953d-bb2046f20433",
   "metadata": {},
   "source": [
    "### Многослойного персептрона"
   ]
  },
  {
   "cell_type": "markdown",
   "id": "b63c4b5a-990b-4827-8d72-542fa6cd18ab",
   "metadata": {},
   "source": [
    "Для реализации данной модели будем использовать функционал библиоткеи TenserFlow"
   ]
  },
  {
   "cell_type": "code",
   "execution_count": 12,
   "id": "c28403f4-fac1-454b-ae70-ad28bcd7e789",
   "metadata": {},
   "outputs": [],
   "source": [
    "# Нормализуем обучающую выборку с помощью отдельного слоя нормализации\n",
    "normalizer = tf.keras.layers.Normalization(axis=-1)\n",
    "normalizer.adapt(np.array(df_X_train))"
   ]
  },
  {
   "cell_type": "code",
   "execution_count": 13,
   "id": "16b0de76-25a4-4b36-aecf-b30d84754c75",
   "metadata": {},
   "outputs": [
    {
     "name": "stdout",
     "output_type": "stream",
     "text": [
      "[[-0.00158359 -0.00089624  0.00031588 -0.00096308 -0.00051653 -0.00046802\n",
      "  -0.00057182  0.00042046  0.0001608   0.00014264]]\n"
     ]
    }
   ],
   "source": [
    "print(normalizer.mean.numpy())"
   ]
  },
  {
   "cell_type": "code",
   "execution_count": 14,
   "id": "18c771ab-0cab-4edb-948e-dcae82b2d38d",
   "metadata": {},
   "outputs": [
    {
     "data": {
      "text/html": [
       "<div>\n",
       "<style scoped>\n",
       "    .dataframe tbody tr th:only-of-type {\n",
       "        vertical-align: middle;\n",
       "    }\n",
       "\n",
       "    .dataframe tbody tr th {\n",
       "        vertical-align: top;\n",
       "    }\n",
       "\n",
       "    .dataframe thead th {\n",
       "        text-align: right;\n",
       "    }\n",
       "</style>\n",
       "<table border=\"1\" class=\"dataframe\">\n",
       "  <thead>\n",
       "    <tr style=\"text-align: right;\">\n",
       "      <th></th>\n",
       "      <th>age</th>\n",
       "      <th>sex</th>\n",
       "      <th>bmi</th>\n",
       "      <th>bp</th>\n",
       "      <th>s1</th>\n",
       "      <th>s2</th>\n",
       "      <th>s3</th>\n",
       "      <th>s4</th>\n",
       "      <th>s5</th>\n",
       "      <th>s6</th>\n",
       "    </tr>\n",
       "  </thead>\n",
       "  <tbody>\n",
       "    <tr>\n",
       "      <th>count</th>\n",
       "      <td>353.000000</td>\n",
       "      <td>353.000000</td>\n",
       "      <td>353.000000</td>\n",
       "      <td>353.000000</td>\n",
       "      <td>353.000000</td>\n",
       "      <td>353.000000</td>\n",
       "      <td>353.000000</td>\n",
       "      <td>353.000000</td>\n",
       "      <td>353.000000</td>\n",
       "      <td>353.000000</td>\n",
       "    </tr>\n",
       "    <tr>\n",
       "      <th>mean</th>\n",
       "      <td>-0.001584</td>\n",
       "      <td>-0.000896</td>\n",
       "      <td>0.000316</td>\n",
       "      <td>-0.000963</td>\n",
       "      <td>-0.000517</td>\n",
       "      <td>-0.000468</td>\n",
       "      <td>-0.000572</td>\n",
       "      <td>0.000420</td>\n",
       "      <td>0.000161</td>\n",
       "      <td>0.000143</td>\n",
       "    </tr>\n",
       "    <tr>\n",
       "      <th>std</th>\n",
       "      <td>0.049006</td>\n",
       "      <td>0.047567</td>\n",
       "      <td>0.049150</td>\n",
       "      <td>0.048559</td>\n",
       "      <td>0.049247</td>\n",
       "      <td>0.048940</td>\n",
       "      <td>0.048204</td>\n",
       "      <td>0.048292</td>\n",
       "      <td>0.047684</td>\n",
       "      <td>0.046903</td>\n",
       "    </tr>\n",
       "    <tr>\n",
       "      <th>min</th>\n",
       "      <td>-0.107226</td>\n",
       "      <td>-0.044642</td>\n",
       "      <td>-0.090275</td>\n",
       "      <td>-0.112400</td>\n",
       "      <td>-0.126781</td>\n",
       "      <td>-0.112795</td>\n",
       "      <td>-0.102307</td>\n",
       "      <td>-0.076395</td>\n",
       "      <td>-0.126097</td>\n",
       "      <td>-0.129483</td>\n",
       "    </tr>\n",
       "    <tr>\n",
       "      <th>25%</th>\n",
       "      <td>-0.041840</td>\n",
       "      <td>-0.044642</td>\n",
       "      <td>-0.036385</td>\n",
       "      <td>-0.036656</td>\n",
       "      <td>-0.035968</td>\n",
       "      <td>-0.032002</td>\n",
       "      <td>-0.036038</td>\n",
       "      <td>-0.039493</td>\n",
       "      <td>-0.033249</td>\n",
       "      <td>-0.030072</td>\n",
       "    </tr>\n",
       "    <tr>\n",
       "      <th>50%</th>\n",
       "      <td>0.005383</td>\n",
       "      <td>-0.044642</td>\n",
       "      <td>-0.008362</td>\n",
       "      <td>-0.005671</td>\n",
       "      <td>-0.004321</td>\n",
       "      <td>-0.005072</td>\n",
       "      <td>-0.006584</td>\n",
       "      <td>-0.002592</td>\n",
       "      <td>-0.003304</td>\n",
       "      <td>-0.001078</td>\n",
       "    </tr>\n",
       "    <tr>\n",
       "      <th>75%</th>\n",
       "      <td>0.038076</td>\n",
       "      <td>0.050680</td>\n",
       "      <td>0.033673</td>\n",
       "      <td>0.034496</td>\n",
       "      <td>0.027326</td>\n",
       "      <td>0.031254</td>\n",
       "      <td>0.026550</td>\n",
       "      <td>0.034309</td>\n",
       "      <td>0.033047</td>\n",
       "      <td>0.027917</td>\n",
       "    </tr>\n",
       "    <tr>\n",
       "      <th>max</th>\n",
       "      <td>0.110727</td>\n",
       "      <td>0.050680</td>\n",
       "      <td>0.170555</td>\n",
       "      <td>0.132044</td>\n",
       "      <td>0.153914</td>\n",
       "      <td>0.198788</td>\n",
       "      <td>0.181179</td>\n",
       "      <td>0.185234</td>\n",
       "      <td>0.133599</td>\n",
       "      <td>0.135612</td>\n",
       "    </tr>\n",
       "  </tbody>\n",
       "</table>\n",
       "</div>"
      ],
      "text/plain": [
       "              age         sex         bmi          bp          s1          s2  \\\n",
       "count  353.000000  353.000000  353.000000  353.000000  353.000000  353.000000   \n",
       "mean    -0.001584   -0.000896    0.000316   -0.000963   -0.000517   -0.000468   \n",
       "std      0.049006    0.047567    0.049150    0.048559    0.049247    0.048940   \n",
       "min     -0.107226   -0.044642   -0.090275   -0.112400   -0.126781   -0.112795   \n",
       "25%     -0.041840   -0.044642   -0.036385   -0.036656   -0.035968   -0.032002   \n",
       "50%      0.005383   -0.044642   -0.008362   -0.005671   -0.004321   -0.005072   \n",
       "75%      0.038076    0.050680    0.033673    0.034496    0.027326    0.031254   \n",
       "max      0.110727    0.050680    0.170555    0.132044    0.153914    0.198788   \n",
       "\n",
       "               s3          s4          s5          s6  \n",
       "count  353.000000  353.000000  353.000000  353.000000  \n",
       "mean    -0.000572    0.000420    0.000161    0.000143  \n",
       "std      0.048204    0.048292    0.047684    0.046903  \n",
       "min     -0.102307   -0.076395   -0.126097   -0.129483  \n",
       "25%     -0.036038   -0.039493   -0.033249   -0.030072  \n",
       "50%     -0.006584   -0.002592   -0.003304   -0.001078  \n",
       "75%      0.026550    0.034309    0.033047    0.027917  \n",
       "max      0.181179    0.185234    0.133599    0.135612  "
      ]
     },
     "execution_count": 14,
     "metadata": {},
     "output_type": "execute_result"
    }
   ],
   "source": [
    "df_X_train.describe()"
   ]
  },
  {
   "cell_type": "code",
   "execution_count": 15,
   "id": "679697e6-e13c-4003-9224-2346d4e381ee",
   "metadata": {},
   "outputs": [
    {
     "name": "stdout",
     "output_type": "stream",
     "text": [
      "3/3 [==============================] - 0s 1ms/step\n"
     ]
    },
    {
     "data": {
      "text/plain": [
       "array([[212.92929 ],\n",
       "       [ 19.594112],\n",
       "       [106.97292 ],\n",
       "       [ 70.99605 ],\n",
       "       [189.48883 ],\n",
       "       [ 86.36806 ],\n",
       "       [111.75647 ],\n",
       "       [116.60968 ],\n",
       "       [122.602585],\n",
       "       [186.56653 ],\n",
       "       [243.88792 ],\n",
       "       [152.87848 ],\n",
       "       [127.72024 ],\n",
       "       [136.28882 ],\n",
       "       [ 60.78453 ],\n",
       "       [230.90665 ],\n",
       "       [129.89294 ],\n",
       "       [106.85017 ],\n",
       "       [167.22697 ],\n",
       "       [150.80173 ],\n",
       "       [ 68.531204],\n",
       "       [142.75902 ],\n",
       "       [283.63235 ],\n",
       "       [128.60912 ],\n",
       "       [152.00255 ],\n",
       "       [118.70987 ],\n",
       "       [114.60079 ],\n",
       "       [ 63.414852],\n",
       "       [ 66.22781 ],\n",
       "       [ 60.62016 ],\n",
       "       [163.18936 ],\n",
       "       [125.61765 ],\n",
       "       [152.70609 ],\n",
       "       [ 66.165245],\n",
       "       [ 51.140064],\n",
       "       [192.25508 ],\n",
       "       [ 86.394844],\n",
       "       [181.1155  ],\n",
       "       [172.6566  ],\n",
       "       [110.59793 ],\n",
       "       [281.3926  ],\n",
       "       [225.30415 ],\n",
       "       [ 83.13081 ],\n",
       "       [ 92.2989  ],\n",
       "       [199.2587  ],\n",
       "       [ 74.624916],\n",
       "       [160.40106 ],\n",
       "       [ 58.419716],\n",
       "       [235.88925 ],\n",
       "       [310.13818 ],\n",
       "       [101.25036 ],\n",
       "       [111.54132 ],\n",
       "       [198.2014  ],\n",
       "       [121.38501 ],\n",
       "       [172.93774 ],\n",
       "       [ 91.53825 ],\n",
       "       [ 71.94856 ],\n",
       "       [214.13223 ],\n",
       "       [174.2966  ],\n",
       "       [196.82266 ],\n",
       "       [273.973   ],\n",
       "       [ 65.883736],\n",
       "       [134.82565 ],\n",
       "       [ 92.42822 ],\n",
       "       [153.13995 ],\n",
       "       [101.361725],\n",
       "       [164.9628  ],\n",
       "       [202.02533 ],\n",
       "       [ 87.275406],\n",
       "       [135.85161 ],\n",
       "       [ 31.933609],\n",
       "       [ 85.35344 ],\n",
       "       [105.59263 ],\n",
       "       [ 27.264675],\n",
       "       [120.45435 ],\n",
       "       [120.036194],\n",
       "       [146.60416 ],\n",
       "       [ 42.239822],\n",
       "       [128.82458 ],\n",
       "       [177.50784 ],\n",
       "       [138.09705 ],\n",
       "       [108.38889 ],\n",
       "       [ 49.237446],\n",
       "       [ 43.287865],\n",
       "       [122.67038 ],\n",
       "       [186.49951 ],\n",
       "       [278.9737  ],\n",
       "       [ 97.3726  ],\n",
       "       [109.22105 ]], dtype=float32)"
      ]
     },
     "execution_count": 15,
     "metadata": {},
     "output_type": "execute_result"
    }
   ],
   "source": [
    "#Создадим нейроную сеть с одним скрытым слоем\n",
    "nn_model = keras.Sequential([\n",
    "      normalizer,\n",
    "      layers.Dense(20, activation='relu'),\n",
    "      layers.Dense(1)\n",
    "  ])\n",
    "\n",
    "nn_model.compile(loss='mean_squared_error',\n",
    "            optimizer=tf.keras.optimizers.Adam(0.001))\n",
    "history = nn_model.fit(\n",
    "    df_X_train,\n",
    "    df_y_train,\n",
    "    validation_split=0.2,\n",
    "    verbose=0,\n",
    "    epochs=400\n",
    ")\n",
    "nn_y = nn_model.predict(df_X_test)\n",
    "nn_y"
   ]
  },
  {
   "cell_type": "code",
   "execution_count": 16,
   "id": "4eec1c7c-f88b-4bae-8785-26c9305ecf3c",
   "metadata": {},
   "outputs": [
    {
     "data": {
      "image/png": "[encoded data removed]",
      "text/plain": [
       "<Figure size 432x288 with 1 Axes>"
      ]
     },
     "metadata": {},
     "output_type": "display_data"
    }
   ],
   "source": [
    "# посмотрим историю обучения\n",
    "\n",
    "plt.plot(history.history['loss'], label='loss')\n",
    "plt.plot(history.history['val_loss'], label='val_loss')\n",
    "plt.xlabel('Epoch')\n",
    "plt.ylabel('Error')\n",
    "plt.legend()\n",
    "plt.grid(True)"
   ]
  },
  {
   "cell_type": "markdown",
   "id": "1568f0a0-4ebb-4ac7-b56b-68e817f547d5",
   "metadata": {},
   "source": [
    "### Модель МГУА "
   ]
  },
  {
   "cell_type": "code",
   "execution_count": 28,
   "id": "9e0cec6b-9372-493a-9335-a3fc7fa7f0d2",
   "metadata": {},
   "outputs": [
    {
     "name": "stdout",
     "output_type": "stream",
     "text": [
      "train layer0 in 0.18 sec\n",
      "train layer1 in 0.53 sec\n",
      "train layer2 in 0.52 sec\n",
      "train layer3 in 0.52 sec\n",
      "train layer4 in 0.51 sec\n",
      "train layer5 in 0.53 sec\n"
     ]
    },
    {
     "data": {
      "text/plain": [
       "array([209.10020708, 122.5295096 , 159.51721852,  99.38626424,\n",
       "       193.47445709, 138.60592576, 122.73902489, 165.22235386,\n",
       "       178.97968777, 189.02133524, 258.40734395, 179.30405188,\n",
       "       135.75473228, 141.39286193,  68.37846824, 218.25632299,\n",
       "       152.71693688,  73.28522292, 171.01202591, 194.23892706,\n",
       "       127.43402267,  81.2616121 , 244.41066279, 142.97809548,\n",
       "       148.28352379, 105.93573428, 164.23881249, 116.73649724,\n",
       "        91.84712255, 127.59577046, 153.39128262, 178.53827268,\n",
       "       176.22114935, 126.20823383, 103.85699124, 169.48493727,\n",
       "       101.92350582, 194.07724585, 168.23861498, 145.92825908,\n",
       "       264.6936559 , 230.78248817, 142.74540707,  84.90167377,\n",
       "       187.76470783, 124.70535705, 179.84582544, 103.29003094,\n",
       "       199.52872972, 271.75801822,  97.38062031, 124.40470526,\n",
       "       211.20313612, 155.36240341, 197.9754771 , 156.52174031,\n",
       "       173.60673959, 187.08229415, 189.81847303, 194.86499065,\n",
       "       249.71941818, 140.51922649, 128.79353257,  94.69480909,\n",
       "        66.84532263,  58.24483861, 165.47981933, 204.76503817,\n",
       "       109.4112695 , 164.12303524, 124.14778806, 107.53705998,\n",
       "       129.66411255,  90.37030001, 139.87412475, 170.05686851,\n",
       "       188.03750376, 133.26186746, 170.62774333, 211.73070802,\n",
       "       143.08267762, 163.43940807, 103.99513899, 100.92269545,\n",
       "       140.97686736, 166.28475172, 248.4229277 , 157.79975723,\n",
       "        65.79076495])"
      ]
     },
     "execution_count": 28,
     "metadata": {},
     "output_type": "execute_result"
    }
   ],
   "source": [
    "gmdh_model = gmdh.Regressor(ref_functions=('linear_cov', 'quadratic', 'cubic', 'linear'))\n",
    "gmdh_model.fit(df_X_train.values, df_y_train.values)\n",
    "gmdh_y = gmdh_model.predict(df_X_test.values)\n",
    "gmdh_y"
   ]
  },
  {
   "cell_type": "markdown",
   "id": "0965527a-ab33-415f-a857-e57dfa5c272c",
   "metadata": {},
   "source": [
    "### Оценка моделей"
   ]
  },
  {
   "cell_type": "code",
   "execution_count": 37,
   "id": "92b09fbf-ff6d-4915-8f47-30d8c7ec524c",
   "metadata": {},
   "outputs": [
    {
     "data": {
      "image/png": "[encoded data removed]",
      "text/plain": [
       "<Figure size 1440x1440 with 1 Axes>"
      ]
     },
     "metadata": {},
     "output_type": "display_data"
    }
   ],
   "source": [
    "results_metrics = [mean_squared_error(df_y_test, tree_y), mean_squared_error(df_y_test, reg_y), mean_squared_error(df_y_test, stacker_y), mean_squared_error(df_y_test, nn_y), mean_squared_error(df_y_test, gmdh_y)]\n",
    "model_list = ['random_forest', 'boosting', 'stacker', 'nn', 'gmdh']\n",
    "\n",
    "sorted_el = list(sorted(list(zip(model_list, results_metrics)), key=lambda x: -x[1]))\n",
    "results_metrics = list(map(lambda x: x[1], sorted_el))\n",
    "model_list = list(map(lambda x: x[0], sorted_el))\n",
    "\n",
    "fig, ax = plt.subplots(figsize=(20,20))\n",
    "pos = np.arange(len(model_list))\n",
    "rects = ax.barh(pos, results_metrics,\n",
    "             align='center',\n",
    "             height=0.5, \n",
    "             tick_label=model_list)\n",
    "ax.set_title('mean_squared')\n",
    "for a, b in zip(pos, results_metrics):\n",
    "    plt.text(max(results_metrics)/2, a-0.05, str(round(b,6)), color='black')\n",
    "plt.show() "
   ]
  },
  {
   "cell_type": "code",
   "execution_count": null,
   "id": "233fc760-6ba1-4c7c-905c-3f6852cb373b",
   "metadata": {},
   "outputs": [],
   "source": []
  }
 ],
 "metadata": {
  "kernelspec": {
   "display_name": "Python 3 (ipykernel)",
   "language": "python",
   "name": "python3"
  },
  "language_info": {
   "codemirror_mode": {
    "name": "ipython",
    "version": 3
   },
   "file_extension": ".py",
   "mimetype": "text/x-python",
   "name": "python",
   "nbconvert_exporter": "python",
   "pygments_lexer": "ipython3",
   "version": "3.9.12"
  }
 },
 "nbformat": 4,
 "nbformat_minor": 5
}
