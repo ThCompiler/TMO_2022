{
 "cells": [
  {
   "cell_type": "markdown",
   "metadata": {},
   "source": [
    "# Обработка пропусков в данных, кодирование категориальных признаков, масштабирование данных."
   ]
  },
  {
   "cell_type": "markdown",
   "metadata": {},
   "source": [
    "### В чем состоит проблема?\n",
    "\n",
    "- Если в данных есть пропуски, то большинство алгоритмов машинного обучения не будут с ними работать. Даже корреляционная матрица не будет строиться корректно.\n",
    "- Большинство алгоритмов машинного обучения требуют явного перекодирования категориальных признаков в числовые. Даже если алгоритм не требует этого явно, такое перекодирование возможно стоит попробовать, чтобы повысить качество модели.\n",
    "- Большинство алгоритмов показывает лучшее качество на масштабированных признаках, в особенности алгоритмы, использующие методы градиентного спуска.\n"
   ]
  },
  {
   "cell_type": "code",
   "execution_count": 2,
   "metadata": {},
   "outputs": [],
   "source": [
    "import numpy as np\n",
    "import pandas as pd\n",
    "import seaborn as sns\n",
    "import matplotlib.pyplot as plt\n",
    "%matplotlib inline \n",
    "sns.set(style=\"ticks\")"
   ]
  },
  {
   "cell_type": "markdown",
   "metadata": {},
   "source": [
    "## Загрузка и первичный анализ данных\n",
    "\n",
    "Используем данные о странах [Country & Area Dataset](https://www.kaggle.com/datasets/lukexun/country-area-continent-region-codes)"
   ]
  },
  {
   "cell_type": "code",
   "execution_count": 3,
   "metadata": {},
   "outputs": [],
   "source": [
    "# Загружаем данные\n",
    "data = pd.read_csv('country_and_area_data.csv', sep=\",\")"
   ]
  },
  {
   "cell_type": "code",
   "execution_count": 4,
   "metadata": {},
   "outputs": [
    {
     "data": {
      "text/plain": [
       "(250, 10)"
      ]
     },
     "execution_count": 4,
     "metadata": {},
     "output_type": "execute_result"
    }
   ],
   "source": [
    "# размер набора данных\n",
    "data.shape"
   ]
  },
  {
   "cell_type": "code",
   "execution_count": 5,
   "metadata": {},
   "outputs": [
    {
     "data": {
      "text/plain": [
       "country _or_area                        object\n",
       "iso_alpha3 _code                        object\n",
       "m49_code                                 int64\n",
       "region_1                                object\n",
       "region_2                                object\n",
       "continent                               object\n",
       "population_rank                        float64\n",
       "population                             float64\n",
       "population_percentage_ of_the_world    float64\n",
       "date                                    object\n",
       "dtype: object"
      ]
     },
     "execution_count": 5,
     "metadata": {},
     "output_type": "execute_result"
    }
   ],
   "source": [
    "# типы колонок\n",
    "data.dtypes"
   ]
  },
  {
   "cell_type": "code",
   "execution_count": 6,
   "metadata": {},
   "outputs": [
    {
     "data": {
      "text/plain": [
       "country _or_area                        0\n",
       "iso_alpha3 _code                        1\n",
       "m49_code                                0\n",
       "region_1                                0\n",
       "region_2                                7\n",
       "continent                               0\n",
       "population_rank                        60\n",
       "population                             21\n",
       "population_percentage_ of_the_world    23\n",
       "date                                   22\n",
       "dtype: int64"
      ]
     },
     "execution_count": 6,
     "metadata": {},
     "output_type": "execute_result"
    }
   ],
   "source": [
    "# проверим есть ли пропущенные значения\n",
    "data.isnull().sum()"
   ]
  },
  {
   "cell_type": "code",
   "execution_count": 7,
   "metadata": {},
   "outputs": [
    {
     "data": {
      "text/html": [
       "<div>\n",
       "<style scoped>\n",
       "    .dataframe tbody tr th:only-of-type {\n",
       "        vertical-align: middle;\n",
       "    }\n",
       "\n",
       "    .dataframe tbody tr th {\n",
       "        vertical-align: top;\n",
       "    }\n",
       "\n",
       "    .dataframe thead th {\n",
       "        text-align: right;\n",
       "    }\n",
       "</style>\n",
       "<table border=\"1\" class=\"dataframe\">\n",
       "  <thead>\n",
       "    <tr style=\"text-align: right;\">\n",
       "      <th></th>\n",
       "      <th>country _or_area</th>\n",
       "      <th>iso_alpha3 _code</th>\n",
       "      <th>m49_code</th>\n",
       "      <th>region_1</th>\n",
       "      <th>region_2</th>\n",
       "      <th>continent</th>\n",
       "      <th>population_rank</th>\n",
       "      <th>population</th>\n",
       "      <th>population_percentage_ of_the_world</th>\n",
       "      <th>date</th>\n",
       "    </tr>\n",
       "  </thead>\n",
       "  <tbody>\n",
       "    <tr>\n",
       "      <th>0</th>\n",
       "      <td>Afghanistan</td>\n",
       "      <td>AFG</td>\n",
       "      <td>4</td>\n",
       "      <td>Southern Asia</td>\n",
       "      <td>None</td>\n",
       "      <td>Asia</td>\n",
       "      <td>43.0</td>\n",
       "      <td>32890171.0</td>\n",
       "      <td>0.004140</td>\n",
       "      <td>1/07/2020</td>\n",
       "    </tr>\n",
       "    <tr>\n",
       "      <th>1</th>\n",
       "      <td>Åland Islands</td>\n",
       "      <td>ALA</td>\n",
       "      <td>248</td>\n",
       "      <td>Northern Europe</td>\n",
       "      <td>None</td>\n",
       "      <td>Europe</td>\n",
       "      <td>NaN</td>\n",
       "      <td>30344.0</td>\n",
       "      <td>0.000004</td>\n",
       "      <td>31/12/2021</td>\n",
       "    </tr>\n",
       "    <tr>\n",
       "      <th>2</th>\n",
       "      <td>Albania</td>\n",
       "      <td>ALB</td>\n",
       "      <td>8</td>\n",
       "      <td>Southern Europe</td>\n",
       "      <td>None</td>\n",
       "      <td>Europe</td>\n",
       "      <td>135.0</td>\n",
       "      <td>2829741.0</td>\n",
       "      <td>0.000356</td>\n",
       "      <td>1/01/2021</td>\n",
       "    </tr>\n",
       "    <tr>\n",
       "      <th>3</th>\n",
       "      <td>Algeria</td>\n",
       "      <td>DZA</td>\n",
       "      <td>12</td>\n",
       "      <td>Northern Africa</td>\n",
       "      <td>None</td>\n",
       "      <td>Africa</td>\n",
       "      <td>32.0</td>\n",
       "      <td>45400000.0</td>\n",
       "      <td>0.005710</td>\n",
       "      <td>1/01/2022</td>\n",
       "    </tr>\n",
       "    <tr>\n",
       "      <th>4</th>\n",
       "      <td>American Samoa</td>\n",
       "      <td>ASM</td>\n",
       "      <td>16</td>\n",
       "      <td>Polynesia</td>\n",
       "      <td>None</td>\n",
       "      <td>Oceania</td>\n",
       "      <td>NaN</td>\n",
       "      <td>49710.0</td>\n",
       "      <td>0.000006</td>\n",
       "      <td>1/04/2020</td>\n",
       "    </tr>\n",
       "  </tbody>\n",
       "</table>\n",
       "</div>"
      ],
      "text/plain": [
       "  country _or_area iso_alpha3 _code  m49_code         region_1 region_2  \\\n",
       "0      Afghanistan              AFG         4    Southern Asia     None   \n",
       "1    Åland Islands              ALA       248  Northern Europe     None   \n",
       "2          Albania              ALB         8  Southern Europe     None   \n",
       "3          Algeria              DZA        12  Northern Africa     None   \n",
       "4   American Samoa              ASM        16        Polynesia     None   \n",
       "\n",
       "  continent  population_rank  population  population_percentage_ of_the_world  \\\n",
       "0      Asia             43.0  32890171.0                             0.004140   \n",
       "1    Europe              NaN     30344.0                             0.000004   \n",
       "2    Europe            135.0   2829741.0                             0.000356   \n",
       "3    Africa             32.0  45400000.0                             0.005710   \n",
       "4   Oceania              NaN     49710.0                             0.000006   \n",
       "\n",
       "         date  \n",
       "0   1/07/2020  \n",
       "1  31/12/2021  \n",
       "2   1/01/2021  \n",
       "3   1/01/2022  \n",
       "4   1/04/2020  "
      ]
     },
     "execution_count": 7,
     "metadata": {},
     "output_type": "execute_result"
    }
   ],
   "source": [
    "# Первые 5 строк датасета\n",
    "data.head()"
   ]
  },
  {
   "cell_type": "code",
   "execution_count": 8,
   "metadata": {},
   "outputs": [
    {
     "name": "stdout",
     "output_type": "stream",
     "text": [
      "Всего строк: 250\n"
     ]
    }
   ],
   "source": [
    "total_count = data.shape[0]\n",
    "print('Всего строк: {}'.format(total_count))"
   ]
  },
  {
   "cell_type": "markdown",
   "metadata": {},
   "source": [
    "# Обработка пропусков в данных"
   ]
  },
  {
   "cell_type": "markdown",
   "metadata": {},
   "source": [
    "## Простые стратегии - удаление или заполнение нулями\n",
    "\n",
    "Удаление колонок, содержащих пустые значения\n",
    "`res = data.dropna(axis=1, how='any')`\n",
    "\n",
    "Удаление строк, содержащих пустые значения\n",
    "`res = data.dropna(axis=0, how='any')`\n",
    "\n",
    "[Документация](https://pandas.pydata.org/pandas-docs/stable/reference/api/pandas.DataFrame.dropna.html)\n",
    "\n",
    "**Удаление может производиться для группы строк или колонок.**"
   ]
  },
  {
   "cell_type": "code",
   "execution_count": 9,
   "metadata": {},
   "outputs": [
    {
     "data": {
      "text/plain": [
       "((250, 10), (250, 4))"
      ]
     },
     "execution_count": 9,
     "metadata": {},
     "output_type": "execute_result"
    }
   ],
   "source": [
    "# Удаление колонок, содержащих пустые значения\n",
    "data_with_drop_null_columns = data.dropna(axis=1, how='any')\n",
    "(data.shape, data_with_drop_null_columns.shape)"
   ]
  },
  {
   "cell_type": "code",
   "execution_count": 10,
   "metadata": {},
   "outputs": [
    {
     "data": {
      "text/plain": [
       "((250, 10), (185, 10))"
      ]
     },
     "execution_count": 10,
     "metadata": {},
     "output_type": "execute_result"
    }
   ],
   "source": [
    "# Удаление строк, содержащих пустые значения\n",
    "data_with_drop_null_rows = data.dropna(axis=0, how='any')\n",
    "(data.shape, data_with_drop_null_rows.shape)"
   ]
  },
  {
   "cell_type": "code",
   "execution_count": 11,
   "metadata": {},
   "outputs": [
    {
     "data": {
      "text/html": [
       "<div>\n",
       "<style scoped>\n",
       "    .dataframe tbody tr th:only-of-type {\n",
       "        vertical-align: middle;\n",
       "    }\n",
       "\n",
       "    .dataframe tbody tr th {\n",
       "        vertical-align: top;\n",
       "    }\n",
       "\n",
       "    .dataframe thead th {\n",
       "        text-align: right;\n",
       "    }\n",
       "</style>\n",
       "<table border=\"1\" class=\"dataframe\">\n",
       "  <thead>\n",
       "    <tr style=\"text-align: right;\">\n",
       "      <th></th>\n",
       "      <th>country _or_area</th>\n",
       "      <th>iso_alpha3 _code</th>\n",
       "      <th>m49_code</th>\n",
       "      <th>region_1</th>\n",
       "      <th>region_2</th>\n",
       "      <th>continent</th>\n",
       "      <th>population_rank</th>\n",
       "      <th>population</th>\n",
       "      <th>population_percentage_ of_the_world</th>\n",
       "      <th>date</th>\n",
       "    </tr>\n",
       "  </thead>\n",
       "  <tbody>\n",
       "    <tr>\n",
       "      <th>0</th>\n",
       "      <td>Afghanistan</td>\n",
       "      <td>AFG</td>\n",
       "      <td>4</td>\n",
       "      <td>Southern Asia</td>\n",
       "      <td>None</td>\n",
       "      <td>Asia</td>\n",
       "      <td>43.0</td>\n",
       "      <td>32890171.0</td>\n",
       "      <td>0.004140</td>\n",
       "      <td>1/07/2020</td>\n",
       "    </tr>\n",
       "    <tr>\n",
       "      <th>1</th>\n",
       "      <td>Åland Islands</td>\n",
       "      <td>ALA</td>\n",
       "      <td>248</td>\n",
       "      <td>Northern Europe</td>\n",
       "      <td>None</td>\n",
       "      <td>Europe</td>\n",
       "      <td>NaN</td>\n",
       "      <td>30344.0</td>\n",
       "      <td>0.000004</td>\n",
       "      <td>31/12/2021</td>\n",
       "    </tr>\n",
       "    <tr>\n",
       "      <th>2</th>\n",
       "      <td>Albania</td>\n",
       "      <td>ALB</td>\n",
       "      <td>8</td>\n",
       "      <td>Southern Europe</td>\n",
       "      <td>None</td>\n",
       "      <td>Europe</td>\n",
       "      <td>135.0</td>\n",
       "      <td>2829741.0</td>\n",
       "      <td>0.000356</td>\n",
       "      <td>1/01/2021</td>\n",
       "    </tr>\n",
       "    <tr>\n",
       "      <th>3</th>\n",
       "      <td>Algeria</td>\n",
       "      <td>DZA</td>\n",
       "      <td>12</td>\n",
       "      <td>Northern Africa</td>\n",
       "      <td>None</td>\n",
       "      <td>Africa</td>\n",
       "      <td>32.0</td>\n",
       "      <td>45400000.0</td>\n",
       "      <td>0.005710</td>\n",
       "      <td>1/01/2022</td>\n",
       "    </tr>\n",
       "    <tr>\n",
       "      <th>4</th>\n",
       "      <td>American Samoa</td>\n",
       "      <td>ASM</td>\n",
       "      <td>16</td>\n",
       "      <td>Polynesia</td>\n",
       "      <td>None</td>\n",
       "      <td>Oceania</td>\n",
       "      <td>NaN</td>\n",
       "      <td>49710.0</td>\n",
       "      <td>0.000006</td>\n",
       "      <td>1/04/2020</td>\n",
       "    </tr>\n",
       "  </tbody>\n",
       "</table>\n",
       "</div>"
      ],
      "text/plain": [
       "  country _or_area iso_alpha3 _code  m49_code         region_1 region_2  \\\n",
       "0      Afghanistan              AFG         4    Southern Asia     None   \n",
       "1    Åland Islands              ALA       248  Northern Europe     None   \n",
       "2          Albania              ALB         8  Southern Europe     None   \n",
       "3          Algeria              DZA        12  Northern Africa     None   \n",
       "4   American Samoa              ASM        16        Polynesia     None   \n",
       "\n",
       "  continent  population_rank  population  population_percentage_ of_the_world  \\\n",
       "0      Asia             43.0  32890171.0                             0.004140   \n",
       "1    Europe              NaN     30344.0                             0.000004   \n",
       "2    Europe            135.0   2829741.0                             0.000356   \n",
       "3    Africa             32.0  45400000.0                             0.005710   \n",
       "4   Oceania              NaN     49710.0                             0.000006   \n",
       "\n",
       "         date  \n",
       "0   1/07/2020  \n",
       "1  31/12/2021  \n",
       "2   1/01/2021  \n",
       "3   1/01/2022  \n",
       "4   1/04/2020  "
      ]
     },
     "execution_count": 11,
     "metadata": {},
     "output_type": "execute_result"
    }
   ],
   "source": [
    "data.head()"
   ]
  },
  {
   "cell_type": "code",
   "execution_count": 12,
   "metadata": {},
   "outputs": [
    {
     "data": {
      "text/html": [
       "<div>\n",
       "<style scoped>\n",
       "    .dataframe tbody tr th:only-of-type {\n",
       "        vertical-align: middle;\n",
       "    }\n",
       "\n",
       "    .dataframe tbody tr th {\n",
       "        vertical-align: top;\n",
       "    }\n",
       "\n",
       "    .dataframe thead th {\n",
       "        text-align: right;\n",
       "    }\n",
       "</style>\n",
       "<table border=\"1\" class=\"dataframe\">\n",
       "  <thead>\n",
       "    <tr style=\"text-align: right;\">\n",
       "      <th></th>\n",
       "      <th>country _or_area</th>\n",
       "      <th>iso_alpha3 _code</th>\n",
       "      <th>m49_code</th>\n",
       "      <th>region_1</th>\n",
       "      <th>region_2</th>\n",
       "      <th>continent</th>\n",
       "      <th>population_rank</th>\n",
       "      <th>population</th>\n",
       "      <th>population_percentage_ of_the_world</th>\n",
       "      <th>date</th>\n",
       "    </tr>\n",
       "  </thead>\n",
       "  <tbody>\n",
       "    <tr>\n",
       "      <th>0</th>\n",
       "      <td>Afghanistan</td>\n",
       "      <td>AFG</td>\n",
       "      <td>4</td>\n",
       "      <td>Southern Asia</td>\n",
       "      <td>None</td>\n",
       "      <td>Asia</td>\n",
       "      <td>43.0</td>\n",
       "      <td>32890171.0</td>\n",
       "      <td>0.004140</td>\n",
       "      <td>1/07/2020</td>\n",
       "    </tr>\n",
       "    <tr>\n",
       "      <th>1</th>\n",
       "      <td>Åland Islands</td>\n",
       "      <td>ALA</td>\n",
       "      <td>248</td>\n",
       "      <td>Northern Europe</td>\n",
       "      <td>None</td>\n",
       "      <td>Europe</td>\n",
       "      <td>0.0</td>\n",
       "      <td>30344.0</td>\n",
       "      <td>0.000004</td>\n",
       "      <td>31/12/2021</td>\n",
       "    </tr>\n",
       "    <tr>\n",
       "      <th>2</th>\n",
       "      <td>Albania</td>\n",
       "      <td>ALB</td>\n",
       "      <td>8</td>\n",
       "      <td>Southern Europe</td>\n",
       "      <td>None</td>\n",
       "      <td>Europe</td>\n",
       "      <td>135.0</td>\n",
       "      <td>2829741.0</td>\n",
       "      <td>0.000356</td>\n",
       "      <td>1/01/2021</td>\n",
       "    </tr>\n",
       "    <tr>\n",
       "      <th>3</th>\n",
       "      <td>Algeria</td>\n",
       "      <td>DZA</td>\n",
       "      <td>12</td>\n",
       "      <td>Northern Africa</td>\n",
       "      <td>None</td>\n",
       "      <td>Africa</td>\n",
       "      <td>32.0</td>\n",
       "      <td>45400000.0</td>\n",
       "      <td>0.005710</td>\n",
       "      <td>1/01/2022</td>\n",
       "    </tr>\n",
       "    <tr>\n",
       "      <th>4</th>\n",
       "      <td>American Samoa</td>\n",
       "      <td>ASM</td>\n",
       "      <td>16</td>\n",
       "      <td>Polynesia</td>\n",
       "      <td>None</td>\n",
       "      <td>Oceania</td>\n",
       "      <td>0.0</td>\n",
       "      <td>49710.0</td>\n",
       "      <td>0.000006</td>\n",
       "      <td>1/04/2020</td>\n",
       "    </tr>\n",
       "  </tbody>\n",
       "</table>\n",
       "</div>"
      ],
      "text/plain": [
       "  country _or_area iso_alpha3 _code  m49_code         region_1 region_2  \\\n",
       "0      Afghanistan              AFG         4    Southern Asia     None   \n",
       "1    Åland Islands              ALA       248  Northern Europe     None   \n",
       "2          Albania              ALB         8  Southern Europe     None   \n",
       "3          Algeria              DZA        12  Northern Africa     None   \n",
       "4   American Samoa              ASM        16        Polynesia     None   \n",
       "\n",
       "  continent  population_rank  population  population_percentage_ of_the_world  \\\n",
       "0      Asia             43.0  32890171.0                             0.004140   \n",
       "1    Europe              0.0     30344.0                             0.000004   \n",
       "2    Europe            135.0   2829741.0                             0.000356   \n",
       "3    Africa             32.0  45400000.0                             0.005710   \n",
       "4   Oceania              0.0     49710.0                             0.000006   \n",
       "\n",
       "         date  \n",
       "0   1/07/2020  \n",
       "1  31/12/2021  \n",
       "2   1/01/2021  \n",
       "3   1/01/2022  \n",
       "4   1/04/2020  "
      ]
     },
     "execution_count": 12,
     "metadata": {},
     "output_type": "execute_result"
    }
   ],
   "source": [
    "# Заполнение всех пропущенных значений нулями\n",
    "# В данном случае это некорректно, так как нулями заполняются в том числе категориальные колонки\n",
    "data_with_set_null_values_as_zero = data.fillna(0)\n",
    "data_with_set_null_values_as_zero.head()"
   ]
  },
  {
   "cell_type": "markdown",
   "metadata": {},
   "source": [
    "## \"Внедрение значений\" - импьютация (imputation)"
   ]
  },
  {
   "cell_type": "markdown",
   "metadata": {},
   "source": [
    "### Обработка пропусков в числовых данных"
   ]
  },
  {
   "cell_type": "code",
   "execution_count": 13,
   "metadata": {},
   "outputs": [
    {
     "data": {
      "text/html": [
       "<div>\n",
       "<style scoped>\n",
       "    .dataframe tbody tr th:only-of-type {\n",
       "        vertical-align: middle;\n",
       "    }\n",
       "\n",
       "    .dataframe tbody tr th {\n",
       "        vertical-align: top;\n",
       "    }\n",
       "\n",
       "    .dataframe thead th {\n",
       "        text-align: right;\n",
       "    }\n",
       "</style>\n",
       "<table border=\"1\" class=\"dataframe\">\n",
       "  <thead>\n",
       "    <tr style=\"text-align: right;\">\n",
       "      <th></th>\n",
       "      <th>iso_alpha3 _code</th>\n",
       "      <th>region_2</th>\n",
       "      <th>population_rank</th>\n",
       "      <th>population</th>\n",
       "      <th>population_percentage_ of_the_world</th>\n",
       "      <th>date</th>\n",
       "    </tr>\n",
       "  </thead>\n",
       "  <tbody>\n",
       "    <tr>\n",
       "      <th>0</th>\n",
       "      <td>AFG</td>\n",
       "      <td>None</td>\n",
       "      <td>43.0</td>\n",
       "      <td>32890171.0</td>\n",
       "      <td>0.004140</td>\n",
       "      <td>1/07/2020</td>\n",
       "    </tr>\n",
       "    <tr>\n",
       "      <th>1</th>\n",
       "      <td>ALA</td>\n",
       "      <td>None</td>\n",
       "      <td>NaN</td>\n",
       "      <td>30344.0</td>\n",
       "      <td>0.000004</td>\n",
       "      <td>31/12/2021</td>\n",
       "    </tr>\n",
       "    <tr>\n",
       "      <th>2</th>\n",
       "      <td>ALB</td>\n",
       "      <td>None</td>\n",
       "      <td>135.0</td>\n",
       "      <td>2829741.0</td>\n",
       "      <td>0.000356</td>\n",
       "      <td>1/01/2021</td>\n",
       "    </tr>\n",
       "    <tr>\n",
       "      <th>3</th>\n",
       "      <td>DZA</td>\n",
       "      <td>None</td>\n",
       "      <td>32.0</td>\n",
       "      <td>45400000.0</td>\n",
       "      <td>0.005710</td>\n",
       "      <td>1/01/2022</td>\n",
       "    </tr>\n",
       "    <tr>\n",
       "      <th>4</th>\n",
       "      <td>ASM</td>\n",
       "      <td>None</td>\n",
       "      <td>NaN</td>\n",
       "      <td>49710.0</td>\n",
       "      <td>0.000006</td>\n",
       "      <td>1/04/2020</td>\n",
       "    </tr>\n",
       "    <tr>\n",
       "      <th>...</th>\n",
       "      <td>...</td>\n",
       "      <td>...</td>\n",
       "      <td>...</td>\n",
       "      <td>...</td>\n",
       "      <td>...</td>\n",
       "      <td>...</td>\n",
       "    </tr>\n",
       "    <tr>\n",
       "      <th>245</th>\n",
       "      <td>ESH</td>\n",
       "      <td>None</td>\n",
       "      <td>NaN</td>\n",
       "      <td>612000.0</td>\n",
       "      <td>0.000077</td>\n",
       "      <td>1/07/2021</td>\n",
       "    </tr>\n",
       "    <tr>\n",
       "      <th>246</th>\n",
       "      <td>YEM</td>\n",
       "      <td>None</td>\n",
       "      <td>48.0</td>\n",
       "      <td>30491000.0</td>\n",
       "      <td>0.003830</td>\n",
       "      <td>1/07/2021</td>\n",
       "    </tr>\n",
       "    <tr>\n",
       "      <th>247</th>\n",
       "      <td>ZMB</td>\n",
       "      <td>Sub-Saharan Africa</td>\n",
       "      <td>64.0</td>\n",
       "      <td>18400556.0</td>\n",
       "      <td>0.002310</td>\n",
       "      <td>1/07/2021</td>\n",
       "    </tr>\n",
       "    <tr>\n",
       "      <th>248</th>\n",
       "      <td>ZWE</td>\n",
       "      <td>Sub-Saharan Africa</td>\n",
       "      <td>72.0</td>\n",
       "      <td>15790716.0</td>\n",
       "      <td>0.001990</td>\n",
       "      <td>1/07/2021</td>\n",
       "    </tr>\n",
       "    <tr>\n",
       "      <th>249</th>\n",
       "      <td>TWN</td>\n",
       "      <td>Province of China</td>\n",
       "      <td>NaN</td>\n",
       "      <td>23375314.0</td>\n",
       "      <td>0.002940</td>\n",
       "      <td>31/12/2021</td>\n",
       "    </tr>\n",
       "  </tbody>\n",
       "</table>\n",
       "<p>250 rows × 6 columns</p>\n",
       "</div>"
      ],
      "text/plain": [
       "    iso_alpha3 _code            region_2  population_rank  population  \\\n",
       "0                AFG                None             43.0  32890171.0   \n",
       "1                ALA                None              NaN     30344.0   \n",
       "2                ALB                None            135.0   2829741.0   \n",
       "3                DZA                None             32.0  45400000.0   \n",
       "4                ASM                None              NaN     49710.0   \n",
       "..               ...                 ...              ...         ...   \n",
       "245              ESH                None              NaN    612000.0   \n",
       "246              YEM                None             48.0  30491000.0   \n",
       "247              ZMB  Sub-Saharan Africa             64.0  18400556.0   \n",
       "248              ZWE  Sub-Saharan Africa             72.0  15790716.0   \n",
       "249              TWN   Province of China              NaN  23375314.0   \n",
       "\n",
       "     population_percentage_ of_the_world        date  \n",
       "0                               0.004140   1/07/2020  \n",
       "1                               0.000004  31/12/2021  \n",
       "2                               0.000356   1/01/2021  \n",
       "3                               0.005710   1/01/2022  \n",
       "4                               0.000006   1/04/2020  \n",
       "..                                   ...         ...  \n",
       "245                             0.000077   1/07/2021  \n",
       "246                             0.003830   1/07/2021  \n",
       "247                             0.002310   1/07/2021  \n",
       "248                             0.001990   1/07/2021  \n",
       "249                             0.002940  31/12/2021  \n",
       "\n",
       "[250 rows x 6 columns]"
      ]
     },
     "execution_count": 13,
     "metadata": {},
     "output_type": "execute_result"
    }
   ],
   "source": [
    "data_with_null_column = data[data.isnull().sum()[data.isnull().sum()!=0].index]\n",
    "data_with_null_column"
   ]
  },
  {
   "cell_type": "code",
   "execution_count": 14,
   "metadata": {},
   "outputs": [
    {
     "name": "stdout",
     "output_type": "stream",
     "text": [
      "Колонка population_rank. Тип данных float64. Количество пустых значений 60, 31.58%.\n",
      "Колонка population. Тип данных float64. Количество пустых значений 21, 9.17%.\n",
      "Колонка population_percentage_ of_the_world. Тип данных float64. Количество пустых значений 23, 10.13%.\n"
     ]
    }
   ],
   "source": [
    "# Выберем числовые колонки с пропущенными значениями\n",
    "# Цикл по колонкам датасета\n",
    "data_with_null_column = data[data.isnull().sum()[data.isnull().sum()!=0].index]\n",
    "num_cols = []\n",
    "#Выбираем только числовые столбцы\n",
    "for col in data_with_null_column.columns:\n",
    "    # Количество пустых значений \n",
    "    dt = str(data_with_null_column[col].dtype)\n",
    "    if (dt=='float64' or dt=='int64'):\n",
    "        num_cols.append(col)\n",
    "        temp_perc = round((data[col].isnull().sum() / data[col].count()) * 100.0, 2)\n",
    "        print('Колонка {}. Тип данных {}. Количество пустых значений {}, {}%.'.format(col, dt, data[col].isnull().sum() , temp_perc))"
   ]
  },
  {
   "cell_type": "code",
   "execution_count": 15,
   "metadata": {},
   "outputs": [
    {
     "data": {
      "text/html": [
       "<div>\n",
       "<style scoped>\n",
       "    .dataframe tbody tr th:only-of-type {\n",
       "        vertical-align: middle;\n",
       "    }\n",
       "\n",
       "    .dataframe tbody tr th {\n",
       "        vertical-align: top;\n",
       "    }\n",
       "\n",
       "    .dataframe thead th {\n",
       "        text-align: right;\n",
       "    }\n",
       "</style>\n",
       "<table border=\"1\" class=\"dataframe\">\n",
       "  <thead>\n",
       "    <tr style=\"text-align: right;\">\n",
       "      <th></th>\n",
       "      <th>population_rank</th>\n",
       "      <th>population</th>\n",
       "      <th>population_percentage_ of_the_world</th>\n",
       "    </tr>\n",
       "  </thead>\n",
       "  <tbody>\n",
       "    <tr>\n",
       "      <th>0</th>\n",
       "      <td>43.0</td>\n",
       "      <td>32890171.0</td>\n",
       "      <td>0.004140</td>\n",
       "    </tr>\n",
       "    <tr>\n",
       "      <th>1</th>\n",
       "      <td>NaN</td>\n",
       "      <td>30344.0</td>\n",
       "      <td>0.000004</td>\n",
       "    </tr>\n",
       "    <tr>\n",
       "      <th>2</th>\n",
       "      <td>135.0</td>\n",
       "      <td>2829741.0</td>\n",
       "      <td>0.000356</td>\n",
       "    </tr>\n",
       "    <tr>\n",
       "      <th>3</th>\n",
       "      <td>32.0</td>\n",
       "      <td>45400000.0</td>\n",
       "      <td>0.005710</td>\n",
       "    </tr>\n",
       "    <tr>\n",
       "      <th>4</th>\n",
       "      <td>NaN</td>\n",
       "      <td>49710.0</td>\n",
       "      <td>0.000006</td>\n",
       "    </tr>\n",
       "    <tr>\n",
       "      <th>...</th>\n",
       "      <td>...</td>\n",
       "      <td>...</td>\n",
       "      <td>...</td>\n",
       "    </tr>\n",
       "    <tr>\n",
       "      <th>245</th>\n",
       "      <td>NaN</td>\n",
       "      <td>612000.0</td>\n",
       "      <td>0.000077</td>\n",
       "    </tr>\n",
       "    <tr>\n",
       "      <th>246</th>\n",
       "      <td>48.0</td>\n",
       "      <td>30491000.0</td>\n",
       "      <td>0.003830</td>\n",
       "    </tr>\n",
       "    <tr>\n",
       "      <th>247</th>\n",
       "      <td>64.0</td>\n",
       "      <td>18400556.0</td>\n",
       "      <td>0.002310</td>\n",
       "    </tr>\n",
       "    <tr>\n",
       "      <th>248</th>\n",
       "      <td>72.0</td>\n",
       "      <td>15790716.0</td>\n",
       "      <td>0.001990</td>\n",
       "    </tr>\n",
       "    <tr>\n",
       "      <th>249</th>\n",
       "      <td>NaN</td>\n",
       "      <td>23375314.0</td>\n",
       "      <td>0.002940</td>\n",
       "    </tr>\n",
       "  </tbody>\n",
       "</table>\n",
       "<p>250 rows × 3 columns</p>\n",
       "</div>"
      ],
      "text/plain": [
       "     population_rank  population  population_percentage_ of_the_world\n",
       "0               43.0  32890171.0                             0.004140\n",
       "1                NaN     30344.0                             0.000004\n",
       "2              135.0   2829741.0                             0.000356\n",
       "3               32.0  45400000.0                             0.005710\n",
       "4                NaN     49710.0                             0.000006\n",
       "..               ...         ...                                  ...\n",
       "245              NaN    612000.0                             0.000077\n",
       "246             48.0  30491000.0                             0.003830\n",
       "247             64.0  18400556.0                             0.002310\n",
       "248             72.0  15790716.0                             0.001990\n",
       "249              NaN  23375314.0                             0.002940\n",
       "\n",
       "[250 rows x 3 columns]"
      ]
     },
     "execution_count": 15,
     "metadata": {},
     "output_type": "execute_result"
    }
   ],
   "source": [
    "# Фильтр по колонкам с пропущенными значениями\n",
    "data_num = data[num_cols]\n",
    "data_num"
   ]
  },
  {
   "cell_type": "code",
   "execution_count": 16,
   "metadata": {},
   "outputs": [
    {
     "data": {
      "image/png": "[encoded data removed]",
      "text/plain": [
       "<Figure size 432x288 with 1 Axes>"
      ]
     },
     "metadata": {},
     "output_type": "display_data"
    },
    {
     "data": {
      "image/png": "[encoded data removed]",
      "text/plain": [
       "<Figure size 432x288 with 1 Axes>"
      ]
     },
     "metadata": {},
     "output_type": "display_data"
    },
    {
     "data": {
      "image/png": "[encoded data removed]",
      "text/plain": [
       "<Figure size 432x288 with 1 Axes>"
      ]
     },
     "metadata": {},
     "output_type": "display_data"
    }
   ],
   "source": [
    "# Гистограмма по признакам\n",
    "for col in data_num:\n",
    "    plt.hist(data[col], 50)\n",
    "    plt.xlabel(col)\n",
    "    plt.show()"
   ]
  },
  {
   "cell_type": "markdown",
   "metadata": {},
   "source": [
    "Будем использовать встроенные средства импьютации библиотеки scikit-learn - https://scikit-learn.org/stable/modules/impute.html"
   ]
  },
  {
   "cell_type": "code",
   "execution_count": 17,
   "metadata": {},
   "outputs": [
    {
     "data": {
      "text/html": [
       "<div>\n",
       "<style scoped>\n",
       "    .dataframe tbody tr th:only-of-type {\n",
       "        vertical-align: middle;\n",
       "    }\n",
       "\n",
       "    .dataframe tbody tr th {\n",
       "        vertical-align: top;\n",
       "    }\n",
       "\n",
       "    .dataframe thead th {\n",
       "        text-align: right;\n",
       "    }\n",
       "</style>\n",
       "<table border=\"1\" class=\"dataframe\">\n",
       "  <thead>\n",
       "    <tr style=\"text-align: right;\">\n",
       "      <th></th>\n",
       "      <th>population</th>\n",
       "    </tr>\n",
       "  </thead>\n",
       "  <tbody>\n",
       "    <tr>\n",
       "      <th>0</th>\n",
       "      <td>32890171.0</td>\n",
       "    </tr>\n",
       "    <tr>\n",
       "      <th>1</th>\n",
       "      <td>30344.0</td>\n",
       "    </tr>\n",
       "    <tr>\n",
       "      <th>2</th>\n",
       "      <td>2829741.0</td>\n",
       "    </tr>\n",
       "    <tr>\n",
       "      <th>3</th>\n",
       "      <td>45400000.0</td>\n",
       "    </tr>\n",
       "    <tr>\n",
       "      <th>4</th>\n",
       "      <td>49710.0</td>\n",
       "    </tr>\n",
       "  </tbody>\n",
       "</table>\n",
       "</div>"
      ],
      "text/plain": [
       "   population\n",
       "0  32890171.0\n",
       "1     30344.0\n",
       "2   2829741.0\n",
       "3  45400000.0\n",
       "4     49710.0"
      ]
     },
     "execution_count": 17,
     "metadata": {},
     "output_type": "execute_result"
    }
   ],
   "source": [
    "data_num_population = data_num[['population']]\n",
    "data_num_population.head()"
   ]
  },
  {
   "cell_type": "code",
   "execution_count": 18,
   "metadata": {},
   "outputs": [],
   "source": [
    "from sklearn.impute import SimpleImputer\n",
    "from sklearn.impute import MissingIndicator"
   ]
  },
  {
   "cell_type": "code",
   "execution_count": 19,
   "metadata": {},
   "outputs": [
    {
     "data": {
      "text/plain": [
       "array([[False],\n",
       "       [False],\n",
       "       [False],\n",
       "       [False],\n",
       "       [False],\n",
       "       [False],\n",
       "       [False],\n",
       "       [False],\n",
       "       [ True],\n",
       "       [False],\n",
       "       [False],\n",
       "       [False],\n",
       "       [False],\n",
       "       [False],\n",
       "       [False],\n",
       "       [False],\n",
       "       [False],\n",
       "       [False],\n",
       "       [False],\n",
       "       [False],\n",
       "       [False],\n",
       "       [False],\n",
       "       [False],\n",
       "       [False],\n",
       "       [False],\n",
       "       [False],\n",
       "       [False],\n",
       "       [ True],\n",
       "       [False],\n",
       "       [False],\n",
       "       [ True],\n",
       "       [False],\n",
       "       [ True],\n",
       "       [False],\n",
       "       [False],\n",
       "       [False],\n",
       "       [False],\n",
       "       [False],\n",
       "       [ True],\n",
       "       [False],\n",
       "       [False],\n",
       "       [False],\n",
       "       [False],\n",
       "       [False],\n",
       "       [False],\n",
       "       [False],\n",
       "       [False],\n",
       "       [False],\n",
       "       [False],\n",
       "       [False],\n",
       "       [False],\n",
       "       [False],\n",
       "       [False],\n",
       "       [False],\n",
       "       [ True],\n",
       "       [False],\n",
       "       [ True],\n",
       "       [False],\n",
       "       [False],\n",
       "       [False],\n",
       "       [False],\n",
       "       [ True],\n",
       "       [False],\n",
       "       [False],\n",
       "       [False],\n",
       "       [False],\n",
       "       [False],\n",
       "       [False],\n",
       "       [False],\n",
       "       [False],\n",
       "       [False],\n",
       "       [False],\n",
       "       [False],\n",
       "       [False],\n",
       "       [False],\n",
       "       [False],\n",
       "       [False],\n",
       "       [False],\n",
       "       [False],\n",
       "       [False],\n",
       "       [False],\n",
       "       [ True],\n",
       "       [False],\n",
       "       [ True],\n",
       "       [False],\n",
       "       [False],\n",
       "       [False],\n",
       "       [False],\n",
       "       [False],\n",
       "       [False],\n",
       "       [False],\n",
       "       [False],\n",
       "       [False],\n",
       "       [ True],\n",
       "       [False],\n",
       "       [False],\n",
       "       [False],\n",
       "       [False],\n",
       "       [False],\n",
       "       [False],\n",
       "       [False],\n",
       "       [ True],\n",
       "       [ True],\n",
       "       [False],\n",
       "       [False],\n",
       "       [False],\n",
       "       [False],\n",
       "       [False],\n",
       "       [False],\n",
       "       [False],\n",
       "       [False],\n",
       "       [False],\n",
       "       [False],\n",
       "       [False],\n",
       "       [False],\n",
       "       [False],\n",
       "       [False],\n",
       "       [False],\n",
       "       [False],\n",
       "       [False],\n",
       "       [False],\n",
       "       [False],\n",
       "       [False],\n",
       "       [False],\n",
       "       [False],\n",
       "       [False],\n",
       "       [False],\n",
       "       [False],\n",
       "       [False],\n",
       "       [False],\n",
       "       [False],\n",
       "       [False],\n",
       "       [False],\n",
       "       [False],\n",
       "       [False],\n",
       "       [False],\n",
       "       [False],\n",
       "       [False],\n",
       "       [False],\n",
       "       [ True],\n",
       "       [False],\n",
       "       [False],\n",
       "       [ True],\n",
       "       [False],\n",
       "       [False],\n",
       "       [False],\n",
       "       [False],\n",
       "       [False],\n",
       "       [False],\n",
       "       [False],\n",
       "       [False],\n",
       "       [False],\n",
       "       [False],\n",
       "       [False],\n",
       "       [False],\n",
       "       [False],\n",
       "       [False],\n",
       "       [False],\n",
       "       [False],\n",
       "       [False],\n",
       "       [False],\n",
       "       [False],\n",
       "       [False],\n",
       "       [False],\n",
       "       [False],\n",
       "       [False],\n",
       "       [False],\n",
       "       [False],\n",
       "       [False],\n",
       "       [False],\n",
       "       [False],\n",
       "       [False],\n",
       "       [False],\n",
       "       [False],\n",
       "       [False],\n",
       "       [False],\n",
       "       [False],\n",
       "       [False],\n",
       "       [False],\n",
       "       [False],\n",
       "       [False],\n",
       "       [ True],\n",
       "       [False],\n",
       "       [False],\n",
       "       [False],\n",
       "       [False],\n",
       "       [False],\n",
       "       [False],\n",
       "       [False],\n",
       "       [False],\n",
       "       [False],\n",
       "       [False],\n",
       "       [False],\n",
       "       [False],\n",
       "       [ True],\n",
       "       [ True],\n",
       "       [False],\n",
       "       [False],\n",
       "       [False],\n",
       "       [False],\n",
       "       [False],\n",
       "       [False],\n",
       "       [ True],\n",
       "       [False],\n",
       "       [False],\n",
       "       [False],\n",
       "       [False],\n",
       "       [False],\n",
       "       [False],\n",
       "       [False],\n",
       "       [False],\n",
       "       [False],\n",
       "       [False],\n",
       "       [False],\n",
       "       [False],\n",
       "       [ True],\n",
       "       [False],\n",
       "       [False],\n",
       "       [False],\n",
       "       [False],\n",
       "       [False],\n",
       "       [False],\n",
       "       [False],\n",
       "       [False],\n",
       "       [False],\n",
       "       [False],\n",
       "       [False],\n",
       "       [False],\n",
       "       [False],\n",
       "       [False],\n",
       "       [False],\n",
       "       [False],\n",
       "       [False],\n",
       "       [False],\n",
       "       [False],\n",
       "       [False],\n",
       "       [ True],\n",
       "       [False],\n",
       "       [False],\n",
       "       [False],\n",
       "       [False],\n",
       "       [False],\n",
       "       [False],\n",
       "       [False],\n",
       "       [False],\n",
       "       [False],\n",
       "       [False],\n",
       "       [False],\n",
       "       [False],\n",
       "       [False]])"
      ]
     },
     "execution_count": 19,
     "metadata": {},
     "output_type": "execute_result"
    }
   ],
   "source": [
    "# Фильтр для проверки заполнения пустых значений\n",
    "indicator = MissingIndicator()\n",
    "mask_missing_values_only = indicator.fit_transform(data_num_population)\n",
    "mask_missing_values_only"
   ]
  },
  {
   "cell_type": "markdown",
   "metadata": {},
   "source": [
    "С помощью класса [SimpleImputer](https://scikit-learn.org/stable/modules/generated/sklearn.impute.SimpleImputer.html#sklearn.impute.SimpleImputer) можно проводить импьютацию различными [показателями центра распределения](https://ru.wikipedia.org/wiki/%D0%9F%D0%BE%D0%BA%D0%B0%D0%B7%D0%B0%D1%82%D0%B5%D0%BB%D0%B8_%D1%86%D0%B5%D0%BD%D1%82%D1%80%D0%B0_%D1%80%D0%B0%D1%81%D0%BF%D1%80%D0%B5%D0%B4%D0%B5%D0%BB%D0%B5%D0%BD%D0%B8%D1%8F)"
   ]
  },
  {
   "cell_type": "code",
   "execution_count": 20,
   "metadata": {},
   "outputs": [],
   "source": [
    "strategies=['mean', 'median', 'most_frequent']"
   ]
  },
  {
   "cell_type": "code",
   "execution_count": 21,
   "metadata": {},
   "outputs": [],
   "source": [
    "def test_num_impute(strategy_param):\n",
    "    imp_num = SimpleImputer(strategy=strategy_param)\n",
    "    data_num_imp = imp_num.fit_transform(data_num_population)\n",
    "    return data_num_imp[mask_missing_values_only]"
   ]
  },
  {
   "cell_type": "code",
   "execution_count": 22,
   "metadata": {},
   "outputs": [
    {
     "data": {
      "text/plain": [
       "('mean',\n",
       " array([33971287.267869, 33971287.267869, 33971287.267869, 33971287.267869,\n",
       "        33971287.267869, 33971287.267869, 33971287.267869, 33971287.267869,\n",
       "        33971287.267869, 33971287.267869, 33971287.267869, 33971287.267869,\n",
       "        33971287.267869, 33971287.267869, 33971287.267869, 33971287.267869,\n",
       "        33971287.267869, 33971287.267869, 33971287.267869, 33971287.267869,\n",
       "        33971287.267869]))"
      ]
     },
     "execution_count": 22,
     "metadata": {},
     "output_type": "execute_result"
    }
   ],
   "source": [
    "strategies[0], test_num_impute(strategies[0])"
   ]
  },
  {
   "cell_type": "code",
   "execution_count": 23,
   "metadata": {},
   "outputs": [
    {
     "data": {
      "text/plain": [
       "('median',\n",
       " array([5550066., 5550066., 5550066., 5550066., 5550066., 5550066.,\n",
       "        5550066., 5550066., 5550066., 5550066., 5550066., 5550066.,\n",
       "        5550066., 5550066., 5550066., 5550066., 5550066., 5550066.,\n",
       "        5550066., 5550066., 5550066.]))"
      ]
     },
     "execution_count": 23,
     "metadata": {},
     "output_type": "execute_result"
    }
   ],
   "source": [
    "strategies[1], test_num_impute(strategies[1])"
   ]
  },
  {
   "cell_type": "code",
   "execution_count": 24,
   "metadata": {},
   "outputs": [
    {
     "data": {
      "text/plain": [
       "('most_frequent',\n",
       " array([30., 30., 30., 30., 30., 30., 30., 30., 30., 30., 30., 30., 30.,\n",
       "        30., 30., 30., 30., 30., 30., 30., 30.]))"
      ]
     },
     "execution_count": 24,
     "metadata": {},
     "output_type": "execute_result"
    }
   ],
   "source": [
    "strategies[2], test_num_impute(strategies[2])"
   ]
  },
  {
   "cell_type": "code",
   "execution_count": 25,
   "metadata": {},
   "outputs": [],
   "source": [
    "# Более сложная функция, которая позволяет задавать колонку и вид импьютации\n",
    "def test_num_impute_col(dataset, column, strategy_param):\n",
    "    temp_data = dataset[[column]]\n",
    "    \n",
    "    indicator = MissingIndicator()\n",
    "    mask_missing_values_only = indicator.fit_transform(temp_data)\n",
    "    \n",
    "    imp_num = SimpleImputer(strategy=strategy_param)\n",
    "    data_num_imp = imp_num.fit_transform(temp_data)\n",
    "    \n",
    "    filled_data = data_num_imp[mask_missing_values_only]\n",
    "    \n",
    "    return column, strategy_param, filled_data.size, filled_data[0], filled_data[filled_data.size-1]"
   ]
  },
  {
   "cell_type": "code",
   "execution_count": 26,
   "metadata": {},
   "outputs": [
    {
     "data": {
      "text/html": [
       "<div>\n",
       "<style scoped>\n",
       "    .dataframe tbody tr th:only-of-type {\n",
       "        vertical-align: middle;\n",
       "    }\n",
       "\n",
       "    .dataframe tbody tr th {\n",
       "        vertical-align: top;\n",
       "    }\n",
       "\n",
       "    .dataframe thead th {\n",
       "        text-align: right;\n",
       "    }\n",
       "</style>\n",
       "<table border=\"1\" class=\"dataframe\">\n",
       "  <thead>\n",
       "    <tr style=\"text-align: right;\">\n",
       "      <th></th>\n",
       "      <th>population_percentage_ of_the_world</th>\n",
       "    </tr>\n",
       "  </thead>\n",
       "  <tbody>\n",
       "    <tr>\n",
       "      <th>count</th>\n",
       "      <td>227.000000</td>\n",
       "    </tr>\n",
       "    <tr>\n",
       "      <th>mean</th>\n",
       "      <td>0.004309</td>\n",
       "    </tr>\n",
       "    <tr>\n",
       "      <th>std</th>\n",
       "      <td>0.017309</td>\n",
       "    </tr>\n",
       "    <tr>\n",
       "      <th>min</th>\n",
       "      <td>0.000000</td>\n",
       "    </tr>\n",
       "    <tr>\n",
       "      <th>25%</th>\n",
       "      <td>0.000052</td>\n",
       "    </tr>\n",
       "    <tr>\n",
       "      <th>50%</th>\n",
       "      <td>0.000708</td>\n",
       "    </tr>\n",
       "    <tr>\n",
       "      <th>75%</th>\n",
       "      <td>0.002745</td>\n",
       "    </tr>\n",
       "    <tr>\n",
       "      <th>max</th>\n",
       "      <td>0.178000</td>\n",
       "    </tr>\n",
       "  </tbody>\n",
       "</table>\n",
       "</div>"
      ],
      "text/plain": [
       "       population_percentage_ of_the_world\n",
       "count                           227.000000\n",
       "mean                              0.004309\n",
       "std                               0.017309\n",
       "min                               0.000000\n",
       "25%                               0.000052\n",
       "50%                               0.000708\n",
       "75%                               0.002745\n",
       "max                               0.178000"
      ]
     },
     "execution_count": 26,
     "metadata": {},
     "output_type": "execute_result"
    }
   ],
   "source": [
    "data[['population_percentage_ of_the_world']].describe()"
   ]
  },
  {
   "cell_type": "code",
   "execution_count": 27,
   "metadata": {},
   "outputs": [
    {
     "data": {
      "text/plain": [
       "('population_percentage_ of_the_world',\n",
       " 'mean',\n",
       " 23,\n",
       " 0.004309447577092511,\n",
       " 0.004309447577092511)"
      ]
     },
     "execution_count": 27,
     "metadata": {},
     "output_type": "execute_result"
    }
   ],
   "source": [
    "test_num_impute_col(data, 'population_percentage_ of_the_world', strategies[0])"
   ]
  },
  {
   "cell_type": "code",
   "execution_count": 28,
   "metadata": {},
   "outputs": [
    {
     "data": {
      "text/plain": [
       "('population_percentage_ of_the_world', 'median', 23, 0.000708, 0.000708)"
      ]
     },
     "execution_count": 28,
     "metadata": {},
     "output_type": "execute_result"
    }
   ],
   "source": [
    "test_num_impute_col(data, 'population_percentage_ of_the_world', strategies[1])"
   ]
  },
  {
   "cell_type": "code",
   "execution_count": 29,
   "metadata": {},
   "outputs": [
    {
     "data": {
      "text/plain": [
       "('population_percentage_ of_the_world', 'most_frequent', 23, 0.0, 0.0)"
      ]
     },
     "execution_count": 29,
     "metadata": {},
     "output_type": "execute_result"
    }
   ],
   "source": [
    "test_num_impute_col(data, 'population_percentage_ of_the_world', strategies[2])"
   ]
  },
  {
   "cell_type": "markdown",
   "metadata": {},
   "source": [
    "### Обработка пропусков в категориальных данных"
   ]
  },
  {
   "cell_type": "code",
   "execution_count": 30,
   "metadata": {},
   "outputs": [
    {
     "name": "stdout",
     "output_type": "stream",
     "text": [
      "Колонка iso_alpha3 _code. Тип данных object. Количество пустых значений 1, 0.4%.\n",
      "Колонка region_2. Тип данных object. Количество пустых значений 7, 2.8%.\n",
      "Колонка date. Тип данных object. Количество пустых значений 22, 8.8%.\n"
     ]
    }
   ],
   "source": [
    "# Выберем категориальные колонки с пропущенными значениями\n",
    "# Цикл по колонкам датасета\n",
    "cat_cols = []\n",
    "for col in data.columns:\n",
    "    # Количество пустых значений \n",
    "    temp_null_count = data[data[col].isnull()].shape[0]\n",
    "    dt = str(data[col].dtype)\n",
    "    if temp_null_count>0 and (dt=='object'):\n",
    "        cat_cols.append(col)\n",
    "        temp_perc = round((temp_null_count / total_count) * 100.0, 2)\n",
    "        print('Колонка {}. Тип данных {}. Количество пустых значений {}, {}%.'.format(col, dt, temp_null_count, temp_perc))"
   ]
  },
  {
   "cell_type": "markdown",
   "metadata": {},
   "source": [
    "Класс SimpleImputer можно использовать для категориальных признаков со стратегиями \"most_frequent\" или \"constant\"."
   ]
  },
  {
   "cell_type": "code",
   "execution_count": 31,
   "metadata": {},
   "outputs": [
    {
     "data": {
      "text/html": [
       "<div>\n",
       "<style scoped>\n",
       "    .dataframe tbody tr th:only-of-type {\n",
       "        vertical-align: middle;\n",
       "    }\n",
       "\n",
       "    .dataframe tbody tr th {\n",
       "        vertical-align: top;\n",
       "    }\n",
       "\n",
       "    .dataframe thead th {\n",
       "        text-align: right;\n",
       "    }\n",
       "</style>\n",
       "<table border=\"1\" class=\"dataframe\">\n",
       "  <thead>\n",
       "    <tr style=\"text-align: right;\">\n",
       "      <th></th>\n",
       "      <th>region_2</th>\n",
       "    </tr>\n",
       "  </thead>\n",
       "  <tbody>\n",
       "    <tr>\n",
       "      <th>0</th>\n",
       "      <td>None</td>\n",
       "    </tr>\n",
       "    <tr>\n",
       "      <th>1</th>\n",
       "      <td>None</td>\n",
       "    </tr>\n",
       "    <tr>\n",
       "      <th>2</th>\n",
       "      <td>None</td>\n",
       "    </tr>\n",
       "    <tr>\n",
       "      <th>3</th>\n",
       "      <td>None</td>\n",
       "    </tr>\n",
       "    <tr>\n",
       "      <th>4</th>\n",
       "      <td>None</td>\n",
       "    </tr>\n",
       "  </tbody>\n",
       "</table>\n",
       "</div>"
      ],
      "text/plain": [
       "  region_2\n",
       "0     None\n",
       "1     None\n",
       "2     None\n",
       "3     None\n",
       "4     None"
      ]
     },
     "execution_count": 31,
     "metadata": {},
     "output_type": "execute_result"
    }
   ],
   "source": [
    "cat_temp_data = data[['region_2']]\n",
    "cat_temp_data.head()"
   ]
  },
  {
   "cell_type": "code",
   "execution_count": 32,
   "metadata": {},
   "outputs": [
    {
     "data": {
      "text/plain": [
       "array(['None', 'Sub-Saharan Africa', 'Latin America and the Caribbean',\n",
       "       nan, 'Special Administrative Region of China', 'Channel Islands',\n",
       "       'Province of China'], dtype=object)"
      ]
     },
     "execution_count": 32,
     "metadata": {},
     "output_type": "execute_result"
    }
   ],
   "source": [
    "cat_temp_data['region_2'].unique()"
   ]
  },
  {
   "cell_type": "code",
   "execution_count": 33,
   "metadata": {},
   "outputs": [
    {
     "data": {
      "text/plain": [
       "(7, 1)"
      ]
     },
     "execution_count": 33,
     "metadata": {},
     "output_type": "execute_result"
    }
   ],
   "source": [
    "cat_temp_data[cat_temp_data['region_2'].isnull()].shape"
   ]
  },
  {
   "cell_type": "code",
   "execution_count": 34,
   "metadata": {},
   "outputs": [
    {
     "data": {
      "text/plain": [
       "array([['None'],\n",
       "       ['None'],\n",
       "       ['None'],\n",
       "       ['None'],\n",
       "       ['None'],\n",
       "       ['None'],\n",
       "       ['Sub-Saharan Africa'],\n",
       "       ['Latin America and the Caribbean'],\n",
       "       ['None'],\n",
       "       ['Latin America and the Caribbean'],\n",
       "       ['Latin America and the Caribbean'],\n",
       "       ['None'],\n",
       "       ['Latin America and the Caribbean'],\n",
       "       ['None'],\n",
       "       ['None'],\n",
       "       ['None'],\n",
       "       ['Latin America and the Caribbean'],\n",
       "       ['None'],\n",
       "       ['None'],\n",
       "       ['Latin America and the Caribbean'],\n",
       "       ['None'],\n",
       "       ['None'],\n",
       "       ['Latin America and the Caribbean'],\n",
       "       ['Sub-Saharan Africa'],\n",
       "       ['None'],\n",
       "       ['None'],\n",
       "       ['Latin America and the Caribbean'],\n",
       "       ['Latin America and the Caribbean'],\n",
       "       ['None'],\n",
       "       ['Sub-Saharan Africa'],\n",
       "       ['Latin America and the Caribbean'],\n",
       "       ['Latin America and the Caribbean'],\n",
       "       ['Sub-Saharan Africa'],\n",
       "       ['Latin America and the Caribbean'],\n",
       "       ['None'],\n",
       "       ['None'],\n",
       "       ['Sub-Saharan Africa'],\n",
       "       ['Sub-Saharan Africa'],\n",
       "       ['Sub-Saharan Africa'],\n",
       "       ['None'],\n",
       "       ['Sub-Saharan Africa'],\n",
       "       ['None'],\n",
       "       ['Latin America and the Caribbean'],\n",
       "       ['Sub-Saharan Africa'],\n",
       "       ['Sub-Saharan Africa'],\n",
       "       ['Latin America and the Caribbean'],\n",
       "       ['None'],\n",
       "       ['Special Administrative Region of China'],\n",
       "       ['Special Administrative Region of China'],\n",
       "       ['None'],\n",
       "       ['None'],\n",
       "       ['Latin America and the Caribbean'],\n",
       "       ['Sub-Saharan Africa'],\n",
       "       ['Sub-Saharan Africa'],\n",
       "       ['None'],\n",
       "       ['Latin America and the Caribbean'],\n",
       "       ['Sub-Saharan Africa'],\n",
       "       ['None'],\n",
       "       ['Latin America and the Caribbean'],\n",
       "       ['Latin America and the Caribbean'],\n",
       "       ['None'],\n",
       "       ['None'],\n",
       "       ['None'],\n",
       "       ['Sub-Saharan Africa'],\n",
       "       ['None'],\n",
       "       ['Sub-Saharan Africa'],\n",
       "       ['Latin America and the Caribbean'],\n",
       "       ['Latin America and the Caribbean'],\n",
       "       ['Latin America and the Caribbean'],\n",
       "       ['None'],\n",
       "       ['Latin America and the Caribbean'],\n",
       "       ['Sub-Saharan Africa'],\n",
       "       ['Sub-Saharan Africa'],\n",
       "       ['None'],\n",
       "       ['Sub-Saharan Africa'],\n",
       "       ['Sub-Saharan Africa'],\n",
       "       ['Latin America and the Caribbean'],\n",
       "       ['None'],\n",
       "       ['None'],\n",
       "       ['None'],\n",
       "       ['None'],\n",
       "       ['Latin America and the Caribbean'],\n",
       "       ['None'],\n",
       "       ['Sub-Saharan Africa'],\n",
       "       ['Sub-Saharan Africa'],\n",
       "       ['Sub-Saharan Africa'],\n",
       "       ['None'],\n",
       "       ['None'],\n",
       "       ['Sub-Saharan Africa'],\n",
       "       ['None'],\n",
       "       ['None'],\n",
       "       ['None'],\n",
       "       ['Latin America and the Caribbean'],\n",
       "       ['Latin America and the Caribbean'],\n",
       "       ['None'],\n",
       "       ['Latin America and the Caribbean'],\n",
       "       ['Channel Islands'],\n",
       "       ['Sub-Saharan Africa'],\n",
       "       ['Sub-Saharan Africa'],\n",
       "       ['Latin America and the Caribbean'],\n",
       "       ['Latin America and the Caribbean'],\n",
       "       ['None'],\n",
       "       ['None'],\n",
       "       ['Latin America and the Caribbean'],\n",
       "       ['None'],\n",
       "       ['None'],\n",
       "       ['None'],\n",
       "       ['None'],\n",
       "       ['None'],\n",
       "       ['None'],\n",
       "       ['None'],\n",
       "       ['None'],\n",
       "       ['None'],\n",
       "       ['None'],\n",
       "       ['Latin America and the Caribbean'],\n",
       "       ['None'],\n",
       "       ['Channel Islands'],\n",
       "       ['None'],\n",
       "       ['None'],\n",
       "       ['Sub-Saharan Africa'],\n",
       "       ['None'],\n",
       "       ['None'],\n",
       "       ['None'],\n",
       "       ['None'],\n",
       "       ['None'],\n",
       "       ['None'],\n",
       "       ['Sub-Saharan Africa'],\n",
       "       ['Sub-Saharan Africa'],\n",
       "       ['None'],\n",
       "       ['None'],\n",
       "       ['None'],\n",
       "       ['None'],\n",
       "       ['Sub-Saharan Africa'],\n",
       "       ['Sub-Saharan Africa'],\n",
       "       ['None'],\n",
       "       ['None'],\n",
       "       ['Sub-Saharan Africa'],\n",
       "       ['None'],\n",
       "       ['None'],\n",
       "       ['Latin America and the Caribbean'],\n",
       "       ['Sub-Saharan Africa'],\n",
       "       ['Sub-Saharan Africa'],\n",
       "       ['Sub-Saharan Africa'],\n",
       "       ['Latin America and the Caribbean'],\n",
       "       ['None'],\n",
       "       ['None'],\n",
       "       ['None'],\n",
       "       ['None'],\n",
       "       ['Latin America and the Caribbean'],\n",
       "       ['None'],\n",
       "       ['Sub-Saharan Africa'],\n",
       "       ['None'],\n",
       "       ['Sub-Saharan Africa'],\n",
       "       ['None'],\n",
       "       ['None'],\n",
       "       ['None'],\n",
       "       ['None'],\n",
       "       ['None'],\n",
       "       ['Latin America and the Caribbean'],\n",
       "       ['Sub-Saharan Africa'],\n",
       "       ['Sub-Saharan Africa'],\n",
       "       ['None'],\n",
       "       ['None'],\n",
       "       ['None'],\n",
       "       ['None'],\n",
       "       ['None'],\n",
       "       ['None'],\n",
       "       ['None'],\n",
       "       ['None'],\n",
       "       ['Latin America and the Caribbean'],\n",
       "       ['None'],\n",
       "       ['Latin America and the Caribbean'],\n",
       "       ['Latin America and the Caribbean'],\n",
       "       ['None'],\n",
       "       ['None'],\n",
       "       ['None'],\n",
       "       ['None'],\n",
       "       ['Latin America and the Caribbean'],\n",
       "       ['None'],\n",
       "       ['None'],\n",
       "       ['None'],\n",
       "       ['Sub-Saharan Africa'],\n",
       "       ['None'],\n",
       "       ['None'],\n",
       "       ['Sub-Saharan Africa'],\n",
       "       ['Latin America and the Caribbean'],\n",
       "       ['Sub-Saharan Africa'],\n",
       "       ['Latin America and the Caribbean'],\n",
       "       ['Latin America and the Caribbean'],\n",
       "       ['Latin America and the Caribbean'],\n",
       "       ['None'],\n",
       "       ['Latin America and the Caribbean'],\n",
       "       ['None'],\n",
       "       ['None'],\n",
       "       ['Sub-Saharan Africa'],\n",
       "       ['Channel Islands'],\n",
       "       ['None'],\n",
       "       ['Sub-Saharan Africa'],\n",
       "       ['None'],\n",
       "       ['Sub-Saharan Africa'],\n",
       "       ['Sub-Saharan Africa'],\n",
       "       ['None'],\n",
       "       ['Latin America and the Caribbean'],\n",
       "       ['None'],\n",
       "       ['None'],\n",
       "       ['None'],\n",
       "       ['Sub-Saharan Africa'],\n",
       "       ['Sub-Saharan Africa'],\n",
       "       ['Latin America and the Caribbean'],\n",
       "       ['Sub-Saharan Africa'],\n",
       "       ['None'],\n",
       "       ['None'],\n",
       "       ['None'],\n",
       "       ['None'],\n",
       "       ['Latin America and the Caribbean'],\n",
       "       ['None'],\n",
       "       ['None'],\n",
       "       ['None'],\n",
       "       ['None'],\n",
       "       ['None'],\n",
       "       ['None'],\n",
       "       ['None'],\n",
       "       ['Sub-Saharan Africa'],\n",
       "       ['None'],\n",
       "       ['None'],\n",
       "       ['Latin America and the Caribbean'],\n",
       "       ['None'],\n",
       "       ['None'],\n",
       "       ['None'],\n",
       "       ['Latin America and the Caribbean'],\n",
       "       ['None'],\n",
       "       ['Sub-Saharan Africa'],\n",
       "       ['None'],\n",
       "       ['None'],\n",
       "       ['None'],\n",
       "       ['Sub-Saharan Africa'],\n",
       "       ['None'],\n",
       "       ['None'],\n",
       "       ['Latin America and the Caribbean'],\n",
       "       ['Latin America and the Caribbean'],\n",
       "       ['None'],\n",
       "       ['None'],\n",
       "       ['Latin America and the Caribbean'],\n",
       "       ['None'],\n",
       "       ['None'],\n",
       "       ['None'],\n",
       "       ['None'],\n",
       "       ['Sub-Saharan Africa'],\n",
       "       ['Sub-Saharan Africa'],\n",
       "       ['Province of China']], dtype=object)"
      ]
     },
     "execution_count": 34,
     "metadata": {},
     "output_type": "execute_result"
    }
   ],
   "source": [
    "# Импьютация наиболее частыми значениями\n",
    "imp2 = SimpleImputer(missing_values=np.nan, strategy='most_frequent')\n",
    "data_imp2 = imp2.fit_transform(cat_temp_data)\n",
    "data_imp2"
   ]
  },
  {
   "cell_type": "code",
   "execution_count": 35,
   "metadata": {},
   "outputs": [
    {
     "data": {
      "text/plain": [
       "array(['Channel Islands', 'Latin America and the Caribbean', 'None',\n",
       "       'Province of China', 'Special Administrative Region of China',\n",
       "       'Sub-Saharan Africa'], dtype=object)"
      ]
     },
     "execution_count": 35,
     "metadata": {},
     "output_type": "execute_result"
    }
   ],
   "source": [
    "# Пустые значения отсутствуют\n",
    "np.unique(data_imp2)"
   ]
  },
  {
   "cell_type": "code",
   "execution_count": 37,
   "metadata": {},
   "outputs": [
    {
     "data": {
      "text/plain": [
       "array([['None'],\n",
       "       ['None'],\n",
       "       ['None'],\n",
       "       ['None'],\n",
       "       ['None'],\n",
       "       ['None'],\n",
       "       ['Sub-Saharan Africa'],\n",
       "       ['Latin America and the Caribbean'],\n",
       "       ['None'],\n",
       "       ['Latin America and the Caribbean'],\n",
       "       ['Latin America and the Caribbean'],\n",
       "       ['None'],\n",
       "       ['Latin America and the Caribbean'],\n",
       "       ['None'],\n",
       "       ['None'],\n",
       "       ['None'],\n",
       "       ['Latin America and the Caribbean'],\n",
       "       ['None'],\n",
       "       ['None'],\n",
       "       ['Latin America and the Caribbean'],\n",
       "       ['None'],\n",
       "       ['None'],\n",
       "       ['Latin America and the Caribbean'],\n",
       "       ['Sub-Saharan Africa'],\n",
       "       ['None'],\n",
       "       ['None'],\n",
       "       ['Latin America and the Caribbean'],\n",
       "       ['Latin America and the Caribbean'],\n",
       "       ['None'],\n",
       "       ['Sub-Saharan Africa'],\n",
       "       ['Latin America and the Caribbean'],\n",
       "       ['Latin America and the Caribbean'],\n",
       "       ['Sub-Saharan Africa'],\n",
       "       ['Latin America and the Caribbean'],\n",
       "       ['None'],\n",
       "       ['None'],\n",
       "       ['Sub-Saharan Africa'],\n",
       "       ['Sub-Saharan Africa'],\n",
       "       ['Sub-Saharan Africa'],\n",
       "       ['None'],\n",
       "       ['Sub-Saharan Africa'],\n",
       "       ['None'],\n",
       "       ['Latin America and the Caribbean'],\n",
       "       ['Sub-Saharan Africa'],\n",
       "       ['Sub-Saharan Africa'],\n",
       "       ['Latin America and the Caribbean'],\n",
       "       ['None'],\n",
       "       ['Special Administrative Region of China'],\n",
       "       ['Special Administrative Region of China'],\n",
       "       ['None'],\n",
       "       ['None'],\n",
       "       ['Latin America and the Caribbean'],\n",
       "       ['Sub-Saharan Africa'],\n",
       "       ['Sub-Saharan Africa'],\n",
       "       ['None'],\n",
       "       ['Latin America and the Caribbean'],\n",
       "       ['Sub-Saharan Africa'],\n",
       "       ['None'],\n",
       "       ['Latin America and the Caribbean'],\n",
       "       ['Latin America and the Caribbean'],\n",
       "       ['None'],\n",
       "       ['None'],\n",
       "       ['None'],\n",
       "       ['Sub-Saharan Africa'],\n",
       "       ['None'],\n",
       "       ['Sub-Saharan Africa'],\n",
       "       ['Latin America and the Caribbean'],\n",
       "       ['Latin America and the Caribbean'],\n",
       "       ['Latin America and the Caribbean'],\n",
       "       ['None'],\n",
       "       ['Latin America and the Caribbean'],\n",
       "       ['Sub-Saharan Africa'],\n",
       "       ['Sub-Saharan Africa'],\n",
       "       ['None'],\n",
       "       ['Sub-Saharan Africa'],\n",
       "       ['Sub-Saharan Africa'],\n",
       "       ['Latin America and the Caribbean'],\n",
       "       ['None'],\n",
       "       ['None'],\n",
       "       ['None'],\n",
       "       ['None'],\n",
       "       ['Latin America and the Caribbean'],\n",
       "       ['None'],\n",
       "       ['Sub-Saharan Africa'],\n",
       "       ['Sub-Saharan Africa'],\n",
       "       ['Sub-Saharan Africa'],\n",
       "       ['None'],\n",
       "       ['None'],\n",
       "       ['Sub-Saharan Africa'],\n",
       "       ['None'],\n",
       "       ['None'],\n",
       "       ['None'],\n",
       "       ['Latin America and the Caribbean'],\n",
       "       ['Latin America and the Caribbean'],\n",
       "       ['None'],\n",
       "       ['Latin America and the Caribbean'],\n",
       "       ['Channel Islands'],\n",
       "       ['Sub-Saharan Africa'],\n",
       "       ['Sub-Saharan Africa'],\n",
       "       ['Latin America and the Caribbean'],\n",
       "       ['Latin America and the Caribbean'],\n",
       "       ['None'],\n",
       "       ['None'],\n",
       "       ['Latin America and the Caribbean'],\n",
       "       ['None'],\n",
       "       ['None'],\n",
       "       ['None'],\n",
       "       ['None'],\n",
       "       ['None'],\n",
       "       ['None'],\n",
       "       ['None'],\n",
       "       ['None'],\n",
       "       ['None'],\n",
       "       ['None'],\n",
       "       ['Latin America and the Caribbean'],\n",
       "       ['None'],\n",
       "       ['Channel Islands'],\n",
       "       ['None'],\n",
       "       ['None'],\n",
       "       ['Sub-Saharan Africa'],\n",
       "       ['None'],\n",
       "       ['None'],\n",
       "       ['None'],\n",
       "       ['None'],\n",
       "       ['None'],\n",
       "       ['None'],\n",
       "       ['Sub-Saharan Africa'],\n",
       "       ['Sub-Saharan Africa'],\n",
       "       ['None'],\n",
       "       ['None'],\n",
       "       ['None'],\n",
       "       ['None'],\n",
       "       ['Sub-Saharan Africa'],\n",
       "       ['Sub-Saharan Africa'],\n",
       "       ['None'],\n",
       "       ['None'],\n",
       "       ['Sub-Saharan Africa'],\n",
       "       ['None'],\n",
       "       ['None'],\n",
       "       ['Latin America and the Caribbean'],\n",
       "       ['Sub-Saharan Africa'],\n",
       "       ['Sub-Saharan Africa'],\n",
       "       ['Sub-Saharan Africa'],\n",
       "       ['Latin America and the Caribbean'],\n",
       "       ['None'],\n",
       "       ['None'],\n",
       "       ['None'],\n",
       "       ['None'],\n",
       "       ['Latin America and the Caribbean'],\n",
       "       ['None'],\n",
       "       ['Sub-Saharan Africa'],\n",
       "       ['None'],\n",
       "       ['Sub-Saharan Africa'],\n",
       "       ['None'],\n",
       "       ['None'],\n",
       "       ['None'],\n",
       "       ['None'],\n",
       "       ['None'],\n",
       "       ['Latin America and the Caribbean'],\n",
       "       ['Sub-Saharan Africa'],\n",
       "       ['Sub-Saharan Africa'],\n",
       "       ['None'],\n",
       "       ['None'],\n",
       "       ['None'],\n",
       "       ['None'],\n",
       "       ['None'],\n",
       "       ['None'],\n",
       "       ['None'],\n",
       "       ['None'],\n",
       "       ['Latin America and the Caribbean'],\n",
       "       ['None'],\n",
       "       ['Latin America and the Caribbean'],\n",
       "       ['Latin America and the Caribbean'],\n",
       "       ['None'],\n",
       "       ['None'],\n",
       "       ['None'],\n",
       "       ['None'],\n",
       "       ['Latin America and the Caribbean'],\n",
       "       ['None'],\n",
       "       ['None'],\n",
       "       ['None'],\n",
       "       ['Sub-Saharan Africa'],\n",
       "       ['None'],\n",
       "       ['None'],\n",
       "       ['Sub-Saharan Africa'],\n",
       "       ['Latin America and the Caribbean'],\n",
       "       ['Sub-Saharan Africa'],\n",
       "       ['Latin America and the Caribbean'],\n",
       "       ['Latin America and the Caribbean'],\n",
       "       ['Latin America and the Caribbean'],\n",
       "       ['None'],\n",
       "       ['Latin America and the Caribbean'],\n",
       "       ['None'],\n",
       "       ['None'],\n",
       "       ['Sub-Saharan Africa'],\n",
       "       ['Channel Islands'],\n",
       "       ['None'],\n",
       "       ['Sub-Saharan Africa'],\n",
       "       ['None'],\n",
       "       ['Sub-Saharan Africa'],\n",
       "       ['Sub-Saharan Africa'],\n",
       "       ['None'],\n",
       "       ['Latin America and the Caribbean'],\n",
       "       ['None'],\n",
       "       ['None'],\n",
       "       ['None'],\n",
       "       ['Sub-Saharan Africa'],\n",
       "       ['Sub-Saharan Africa'],\n",
       "       ['Latin America and the Caribbean'],\n",
       "       ['Sub-Saharan Africa'],\n",
       "       ['None'],\n",
       "       ['None'],\n",
       "       ['None'],\n",
       "       ['None'],\n",
       "       ['Latin America and the Caribbean'],\n",
       "       ['None'],\n",
       "       ['None'],\n",
       "       ['None'],\n",
       "       ['None'],\n",
       "       ['None'],\n",
       "       ['None'],\n",
       "       ['None'],\n",
       "       ['Sub-Saharan Africa'],\n",
       "       ['None'],\n",
       "       ['None'],\n",
       "       ['Latin America and the Caribbean'],\n",
       "       ['None'],\n",
       "       ['None'],\n",
       "       ['None'],\n",
       "       ['Latin America and the Caribbean'],\n",
       "       ['None'],\n",
       "       ['Sub-Saharan Africa'],\n",
       "       ['None'],\n",
       "       ['None'],\n",
       "       ['None'],\n",
       "       ['Sub-Saharan Africa'],\n",
       "       ['None'],\n",
       "       ['None'],\n",
       "       ['Latin America and the Caribbean'],\n",
       "       ['Latin America and the Caribbean'],\n",
       "       ['None'],\n",
       "       ['None'],\n",
       "       ['Latin America and the Caribbean'],\n",
       "       ['None'],\n",
       "       ['None'],\n",
       "       ['None'],\n",
       "       ['None'],\n",
       "       ['Sub-Saharan Africa'],\n",
       "       ['Sub-Saharan Africa'],\n",
       "       ['Province of China']], dtype=object)"
      ]
     },
     "execution_count": 37,
     "metadata": {},
     "output_type": "execute_result"
    }
   ],
   "source": [
    "# Импьютация константой\n",
    "imp3 = SimpleImputer(missing_values=np.nan, strategy='constant', fill_value='None')\n",
    "data_imp3 = imp3.fit_transform(cat_temp_data)\n",
    "data_imp3"
   ]
  },
  {
   "cell_type": "code",
   "execution_count": 78,
   "metadata": {},
   "outputs": [
    {
     "data": {
      "text/plain": [
       "array(['Channel Islands', 'Latin America and the Caribbean', 'None',\n",
       "       'Province of China', 'Special Administrative Region of China',\n",
       "       'Sub-Saharan Africa'], dtype=object)"
      ]
     },
     "execution_count": 78,
     "metadata": {},
     "output_type": "execute_result"
    }
   ],
   "source": [
    "np.unique(data_imp3)"
   ]
  },
  {
   "cell_type": "code",
   "execution_count": 81,
   "metadata": {},
   "outputs": [
    {
     "data": {
      "text/plain": [
       "0"
      ]
     },
     "execution_count": 81,
     "metadata": {},
     "output_type": "execute_result"
    }
   ],
   "source": [
    "data_imp3[data_imp3=='nan'].size"
   ]
  },
  {
   "cell_type": "markdown",
   "metadata": {},
   "source": [
    "# Преобразование категориальных признаков в числовые"
   ]
  },
  {
   "cell_type": "code",
   "execution_count": 82,
   "metadata": {},
   "outputs": [
    {
     "data": {
      "text/html": [
       "<div>\n",
       "<style scoped>\n",
       "    .dataframe tbody tr th:only-of-type {\n",
       "        vertical-align: middle;\n",
       "    }\n",
       "\n",
       "    .dataframe tbody tr th {\n",
       "        vertical-align: top;\n",
       "    }\n",
       "\n",
       "    .dataframe thead th {\n",
       "        text-align: right;\n",
       "    }\n",
       "</style>\n",
       "<table border=\"1\" class=\"dataframe\">\n",
       "  <thead>\n",
       "    <tr style=\"text-align: right;\">\n",
       "      <th></th>\n",
       "      <th>c1</th>\n",
       "    </tr>\n",
       "  </thead>\n",
       "  <tbody>\n",
       "    <tr>\n",
       "      <th>0</th>\n",
       "      <td>None</td>\n",
       "    </tr>\n",
       "    <tr>\n",
       "      <th>1</th>\n",
       "      <td>None</td>\n",
       "    </tr>\n",
       "    <tr>\n",
       "      <th>2</th>\n",
       "      <td>None</td>\n",
       "    </tr>\n",
       "    <tr>\n",
       "      <th>3</th>\n",
       "      <td>None</td>\n",
       "    </tr>\n",
       "    <tr>\n",
       "      <th>4</th>\n",
       "      <td>None</td>\n",
       "    </tr>\n",
       "    <tr>\n",
       "      <th>...</th>\n",
       "      <td>...</td>\n",
       "    </tr>\n",
       "    <tr>\n",
       "      <th>245</th>\n",
       "      <td>None</td>\n",
       "    </tr>\n",
       "    <tr>\n",
       "      <th>246</th>\n",
       "      <td>None</td>\n",
       "    </tr>\n",
       "    <tr>\n",
       "      <th>247</th>\n",
       "      <td>Sub-Saharan Africa</td>\n",
       "    </tr>\n",
       "    <tr>\n",
       "      <th>248</th>\n",
       "      <td>Sub-Saharan Africa</td>\n",
       "    </tr>\n",
       "    <tr>\n",
       "      <th>249</th>\n",
       "      <td>Province of China</td>\n",
       "    </tr>\n",
       "  </tbody>\n",
       "</table>\n",
       "<p>250 rows × 1 columns</p>\n",
       "</div>"
      ],
      "text/plain": [
       "                     c1\n",
       "0                  None\n",
       "1                  None\n",
       "2                  None\n",
       "3                  None\n",
       "4                  None\n",
       "..                  ...\n",
       "245                None\n",
       "246                None\n",
       "247  Sub-Saharan Africa\n",
       "248  Sub-Saharan Africa\n",
       "249   Province of China\n",
       "\n",
       "[250 rows x 1 columns]"
      ]
     },
     "execution_count": 82,
     "metadata": {},
     "output_type": "execute_result"
    }
   ],
   "source": [
    "cat_enc = pd.DataFrame({'c1':data_imp2.T[0]})\n",
    "cat_enc"
   ]
  },
  {
   "cell_type": "markdown",
   "metadata": {},
   "source": [
    "## Кодирование категорий целочисленными значениями (label encoding)\n",
    "\n",
    "В этом случае уникальные значения категориального признака кодируются целыми числами.\n",
    "\n",
    "В scikit-learn для такого кодирования используется два класса :\n",
    "\n",
    "- [LabelEncoder](https://scikit-learn.org/stable/modules/generated/sklearn.preprocessing.LabelEncoder.html) - который ориентирован на применение к одному признаку. Этот класс прежде всего предназначен для кодирования целевого признака, но может быть также использован для последовательного кодирования отдельных нецелевых признаков.\n",
    "- [OrdinalEncoder](https://scikit-learn.org/stable/modules/generated/sklearn.preprocessing.OrdinalEncoder.html) - который ориентирован на применение к матрице объект-признак, то есть для кодирования матрицы нецелевых признаков."
   ]
  },
  {
   "cell_type": "markdown",
   "metadata": {},
   "source": [
    "### Использование LabelEncoder"
   ]
  },
  {
   "cell_type": "code",
   "execution_count": 83,
   "metadata": {},
   "outputs": [],
   "source": [
    "from sklearn.preprocessing import LabelEncoder"
   ]
  },
  {
   "cell_type": "code",
   "execution_count": 84,
   "metadata": {},
   "outputs": [
    {
     "data": {
      "text/plain": [
       "array(['None', 'Sub-Saharan Africa', 'Latin America and the Caribbean',\n",
       "       'Special Administrative Region of China', 'Channel Islands',\n",
       "       'Province of China'], dtype=object)"
      ]
     },
     "execution_count": 84,
     "metadata": {},
     "output_type": "execute_result"
    }
   ],
   "source": [
    "cat_enc['c1'].unique()"
   ]
  },
  {
   "cell_type": "code",
   "execution_count": 85,
   "metadata": {},
   "outputs": [],
   "source": [
    "le = LabelEncoder()\n",
    "cat_enc_le = le.fit_transform(cat_enc['c1'])"
   ]
  },
  {
   "cell_type": "code",
   "execution_count": 86,
   "metadata": {},
   "outputs": [
    {
     "data": {
      "text/plain": [
       "array(['Channel Islands', 'Latin America and the Caribbean', 'None',\n",
       "       'Province of China', 'Special Administrative Region of China',\n",
       "       'Sub-Saharan Africa'], dtype=object)"
      ]
     },
     "execution_count": 86,
     "metadata": {},
     "output_type": "execute_result"
    }
   ],
   "source": [
    "# Наименования категорий в соответствии с порядковыми номерами\n",
    "\n",
    "# Свойство называется classes, потому что предполагается что мы решаем \n",
    "# задачу классификации и каждое значение категории соответствует \n",
    "# какому-либо классу целевого признака\n",
    "\n",
    "le.classes_"
   ]
  },
  {
   "cell_type": "code",
   "execution_count": 87,
   "metadata": {},
   "outputs": [
    {
     "data": {
      "text/plain": [
       "array([2, 2, 2, 2, 2, 2, 5, 1, 2, 1, 1, 2, 1, 2, 2, 2, 1, 2, 2, 1, 2, 2,\n",
       "       1, 5, 2, 2, 1, 1, 2, 5, 1, 1, 5, 1, 2, 2, 5, 5, 5, 2, 5, 2, 1, 5,\n",
       "       5, 1, 2, 4, 4, 2, 2, 1, 5, 5, 2, 1, 5, 2, 1, 1, 2, 2, 2, 5, 2, 5,\n",
       "       1, 1, 1, 2, 1, 5, 5, 2, 5, 5, 1, 2, 2, 2, 2, 1, 2, 5, 5, 5, 2, 2,\n",
       "       5, 2, 2, 2, 1, 1, 2, 1, 0, 5, 5, 1, 1, 2, 2, 1, 2, 2, 2, 2, 2, 2,\n",
       "       2, 2, 2, 2, 1, 2, 0, 2, 2, 5, 2, 2, 2, 2, 2, 2, 5, 5, 2, 2, 2, 2,\n",
       "       5, 5, 2, 2, 5, 2, 2, 1, 5, 5, 5, 1, 2, 2, 2, 2, 1, 2, 5, 2, 5, 2,\n",
       "       2, 2, 2, 2, 1, 5, 5, 2, 2, 2, 2, 2, 2, 2, 2, 1, 2, 1, 1, 2, 2, 2,\n",
       "       2, 1, 2, 2, 2, 5, 2, 2, 5, 1, 5, 1, 1, 1, 2, 1, 2, 2, 5, 0, 2, 5,\n",
       "       2, 5, 5, 2, 1, 2, 2, 2, 5, 5, 1, 5, 2, 2, 2, 2, 1, 2, 2, 2, 2, 2,\n",
       "       2, 2, 5, 2, 2, 1, 2, 2, 2, 1, 2, 5, 2, 2, 2, 5, 2, 2, 1, 1, 2, 2,\n",
       "       1, 2, 2, 2, 2, 5, 5, 3])"
      ]
     },
     "execution_count": 87,
     "metadata": {},
     "output_type": "execute_result"
    }
   ],
   "source": [
    "cat_enc_le"
   ]
  },
  {
   "cell_type": "code",
   "execution_count": 88,
   "metadata": {},
   "outputs": [
    {
     "data": {
      "text/plain": [
       "array([0, 1, 2, 3, 4, 5])"
      ]
     },
     "execution_count": 88,
     "metadata": {},
     "output_type": "execute_result"
    }
   ],
   "source": [
    "np.unique(cat_enc_le)"
   ]
  },
  {
   "cell_type": "code",
   "execution_count": 89,
   "metadata": {},
   "outputs": [
    {
     "data": {
      "text/plain": [
       "array(['Channel Islands', 'Latin America and the Caribbean', 'None',\n",
       "       'Province of China'], dtype=object)"
      ]
     },
     "execution_count": 89,
     "metadata": {},
     "output_type": "execute_result"
    }
   ],
   "source": [
    "# В этом примере видно, что перед кодированием \n",
    "# уникальные значения признака сортируются в лексикографиеском порядке\n",
    "le.inverse_transform([0, 1, 2, 3])"
   ]
  },
  {
   "cell_type": "markdown",
   "metadata": {},
   "source": [
    "### Использование OrdinalEncoder"
   ]
  },
  {
   "cell_type": "code",
   "execution_count": 90,
   "metadata": {},
   "outputs": [],
   "source": [
    "from sklearn.preprocessing import OrdinalEncoder"
   ]
  },
  {
   "cell_type": "code",
   "execution_count": 95,
   "metadata": {},
   "outputs": [
    {
     "data": {
      "text/html": [
       "<div>\n",
       "<style scoped>\n",
       "    .dataframe tbody tr th:only-of-type {\n",
       "        vertical-align: middle;\n",
       "    }\n",
       "\n",
       "    .dataframe tbody tr th {\n",
       "        vertical-align: top;\n",
       "    }\n",
       "\n",
       "    .dataframe thead th {\n",
       "        text-align: right;\n",
       "    }\n",
       "</style>\n",
       "<table border=\"1\" class=\"dataframe\">\n",
       "  <thead>\n",
       "    <tr style=\"text-align: right;\">\n",
       "      <th></th>\n",
       "      <th>country _or_area</th>\n",
       "      <th>iso_alpha3 _code</th>\n",
       "      <th>region_1</th>\n",
       "      <th>region_2</th>\n",
       "      <th>continent</th>\n",
       "      <th>date</th>\n",
       "    </tr>\n",
       "  </thead>\n",
       "  <tbody>\n",
       "    <tr>\n",
       "      <th>0</th>\n",
       "      <td>Afghanistan</td>\n",
       "      <td>AFG</td>\n",
       "      <td>Southern Asia</td>\n",
       "      <td>None</td>\n",
       "      <td>Asia</td>\n",
       "      <td>1/07/2020</td>\n",
       "    </tr>\n",
       "    <tr>\n",
       "      <th>1</th>\n",
       "      <td>Åland Islands</td>\n",
       "      <td>ALA</td>\n",
       "      <td>Northern Europe</td>\n",
       "      <td>None</td>\n",
       "      <td>Europe</td>\n",
       "      <td>31/12/2021</td>\n",
       "    </tr>\n",
       "    <tr>\n",
       "      <th>2</th>\n",
       "      <td>Albania</td>\n",
       "      <td>ALB</td>\n",
       "      <td>Southern Europe</td>\n",
       "      <td>None</td>\n",
       "      <td>Europe</td>\n",
       "      <td>1/01/2021</td>\n",
       "    </tr>\n",
       "    <tr>\n",
       "      <th>3</th>\n",
       "      <td>Algeria</td>\n",
       "      <td>DZA</td>\n",
       "      <td>Northern Africa</td>\n",
       "      <td>None</td>\n",
       "      <td>Africa</td>\n",
       "      <td>1/01/2022</td>\n",
       "    </tr>\n",
       "    <tr>\n",
       "      <th>4</th>\n",
       "      <td>American Samoa</td>\n",
       "      <td>ASM</td>\n",
       "      <td>Polynesia</td>\n",
       "      <td>None</td>\n",
       "      <td>Oceania</td>\n",
       "      <td>1/04/2020</td>\n",
       "    </tr>\n",
       "  </tbody>\n",
       "</table>\n",
       "</div>"
      ],
      "text/plain": [
       "  country _or_area iso_alpha3 _code         region_1 region_2 continent  \\\n",
       "0      Afghanistan              AFG    Southern Asia     None      Asia   \n",
       "1    Åland Islands              ALA  Northern Europe     None    Europe   \n",
       "2          Albania              ALB  Southern Europe     None    Europe   \n",
       "3          Algeria              DZA  Northern Africa     None    Africa   \n",
       "4   American Samoa              ASM        Polynesia     None   Oceania   \n",
       "\n",
       "         date  \n",
       "0   1/07/2020  \n",
       "1  31/12/2021  \n",
       "2   1/01/2021  \n",
       "3   1/01/2022  \n",
       "4   1/04/2020  "
      ]
     },
     "execution_count": 95,
     "metadata": {},
     "output_type": "execute_result"
    }
   ],
   "source": [
    "data_oe = data[data.dtypes[data.dtypes=='object'].index]\n",
    "data_oe.head()"
   ]
  },
  {
   "cell_type": "code",
   "execution_count": 96,
   "metadata": {},
   "outputs": [
    {
     "data": {
      "text/plain": [
       "array([['Afghanistan', 'AFG', 'Southern Asia', 'None', 'Asia',\n",
       "        '1/07/2020'],\n",
       "       ['Åland Islands', 'ALA', 'Northern Europe', 'None', 'Europe',\n",
       "        '31/12/2021'],\n",
       "       ['Albania', 'ALB', 'Southern Europe', 'None', 'Europe',\n",
       "        '1/01/2021'],\n",
       "       ...,\n",
       "       ['Zambia', 'ZMB', 'Eastern Africa', 'Sub-Saharan Africa',\n",
       "        'Africa', '1/07/2021'],\n",
       "       ['Zimbabwe', 'ZWE', 'Eastern Africa', 'Sub-Saharan Africa',\n",
       "        'Africa', '1/07/2021'],\n",
       "       ['Taiwan', 'TWN', 'Eastern Asia', 'Province of China', 'Asia',\n",
       "        '31/12/2021']], dtype=object)"
      ]
     },
     "execution_count": 96,
     "metadata": {},
     "output_type": "execute_result"
    }
   ],
   "source": [
    "imp4 = SimpleImputer(missing_values=np.nan, strategy='constant', fill_value='NA')\n",
    "data_oe_filled = imp4.fit_transform(data_oe)\n",
    "data_oe_filled"
   ]
  },
  {
   "cell_type": "code",
   "execution_count": 97,
   "metadata": {},
   "outputs": [
    {
     "data": {
      "text/plain": [
       "array([[  0.,   1.,  18.,   3.,   2.,  10.],\n",
       "       [249.,   4.,  13.,   3.,   3.,  38.],\n",
       "       [  1.,   5.,  19.,   3.,   3.,   1.],\n",
       "       ...,\n",
       "       [247., 248.,   5.,   6.,   0.,  11.],\n",
       "       [248., 249.,   5.,   6.,   0.,  11.],\n",
       "       [218., 229.,   6.,   4.,   2.,  38.]])"
      ]
     },
     "execution_count": 97,
     "metadata": {},
     "output_type": "execute_result"
    }
   ],
   "source": [
    "oe = OrdinalEncoder()\n",
    "cat_enc_oe = oe.fit_transform(data_oe_filled)\n",
    "cat_enc_oe"
   ]
  },
  {
   "cell_type": "code",
   "execution_count": 98,
   "metadata": {},
   "outputs": [
    {
     "data": {
      "text/plain": [
       "array([  0.,   1.,   2.,   3.,   4.,   5.,   6.,   7.,   8.,   9.,  10.,\n",
       "        11.,  12.,  13.,  14.,  15.,  16.,  17.,  18.,  19.,  20.,  21.,\n",
       "        22.,  23.,  24.,  25.,  26.,  27.,  28.,  29.,  30.,  31.,  32.,\n",
       "        33.,  34.,  35.,  36.,  37.,  38.,  39.,  40.,  41.,  42.,  43.,\n",
       "        44.,  45.,  46.,  47.,  48.,  49.,  50.,  51.,  52.,  53.,  54.,\n",
       "        55.,  56.,  57.,  58.,  59.,  60.,  61.,  62.,  63.,  64.,  65.,\n",
       "        66.,  67.,  68.,  69.,  70.,  71.,  72.,  73.,  74.,  75.,  76.,\n",
       "        77.,  78.,  79.,  80.,  81.,  82.,  83.,  84.,  85.,  86.,  87.,\n",
       "        88.,  89.,  90.,  91.,  92.,  93.,  94.,  95.,  96.,  97.,  98.,\n",
       "        99., 100., 101., 102., 103., 104., 105., 106., 107., 108., 109.,\n",
       "       110., 111., 112., 113., 114., 115., 116., 117., 118., 119., 120.,\n",
       "       121., 122., 123., 124., 125., 126., 127., 128., 129., 130., 131.,\n",
       "       132., 133., 134., 135., 136., 137., 138., 139., 140., 141., 142.,\n",
       "       143., 144., 145., 146., 147., 148., 149., 150., 151., 152., 153.,\n",
       "       154., 155., 156., 157., 158., 159., 160., 161., 162., 163., 164.,\n",
       "       165., 166., 167., 168., 169., 170., 171., 172., 173., 174., 175.,\n",
       "       176., 177., 178., 179., 180., 181., 182., 183., 184., 185., 186.,\n",
       "       187., 188., 189., 190., 191., 192., 193., 194., 195., 196., 197.,\n",
       "       198., 199., 200., 201., 202., 203., 204., 205., 206., 207., 208.,\n",
       "       209., 210., 211., 212., 213., 214., 215., 216., 217., 218., 219.,\n",
       "       220., 221., 222., 223., 224., 225., 226., 227., 228., 229., 230.,\n",
       "       231., 232., 233., 234., 235., 236., 237., 238., 239., 240., 241.,\n",
       "       242., 243., 244., 245., 246., 247., 248., 249.])"
      ]
     },
     "execution_count": 98,
     "metadata": {},
     "output_type": "execute_result"
    }
   ],
   "source": [
    "# Уникальные значения 1 признака\n",
    "np.unique(cat_enc_oe[:, 0])"
   ]
  },
  {
   "cell_type": "code",
   "execution_count": 99,
   "metadata": {},
   "outputs": [
    {
     "data": {
      "text/plain": [
       "array([  0.,   1.,   2.,   3.,   4.,   5.,   6.,   7.,   8.,   9.,  10.,\n",
       "        11.,  12.,  13.,  14.,  15.,  16.,  17.,  18.,  19.,  20.,  21.,\n",
       "        22.,  23.,  24.,  25.,  26.,  27.,  28.,  29.,  30.,  31.,  32.,\n",
       "        33.,  34.,  35.,  36.,  37.,  38.,  39.,  40.,  41.,  42.,  43.,\n",
       "        44.,  45.,  46.,  47.,  48.,  49.,  50.,  51.,  52.,  53.,  54.,\n",
       "        55.,  56.,  57.,  58.,  59.,  60.,  61.,  62.,  63.,  64.,  65.,\n",
       "        66.,  67.,  68.,  69.,  70.,  71.,  72.,  73.,  74.,  75.,  76.,\n",
       "        77.,  78.,  79.,  80.,  81.,  82.,  83.,  84.,  85.,  86.,  87.,\n",
       "        88.,  89.,  90.,  91.,  92.,  93.,  94.,  95.,  96.,  97.,  98.,\n",
       "        99., 100., 101., 102., 103., 104., 105., 106., 107., 108., 109.,\n",
       "       110., 111., 112., 113., 114., 115., 116., 117., 118., 119., 120.,\n",
       "       121., 122., 123., 124., 125., 126., 127., 128., 129., 130., 131.,\n",
       "       132., 133., 134., 135., 136., 137., 138., 139., 140., 141., 142.,\n",
       "       143., 144., 145., 146., 147., 148., 149., 150., 151., 152., 153.,\n",
       "       154., 155., 156., 157., 158., 159., 160., 161., 162., 163., 164.,\n",
       "       165., 166., 167., 168., 169., 170., 171., 172., 173., 174., 175.,\n",
       "       176., 177., 178., 179., 180., 181., 182., 183., 184., 185., 186.,\n",
       "       187., 188., 189., 190., 191., 192., 193., 194., 195., 196., 197.,\n",
       "       198., 199., 200., 201., 202., 203., 204., 205., 206., 207., 208.,\n",
       "       209., 210., 211., 212., 213., 214., 215., 216., 217., 218., 219.,\n",
       "       220., 221., 222., 223., 224., 225., 226., 227., 228., 229., 230.,\n",
       "       231., 232., 233., 234., 235., 236., 237., 238., 239., 240., 241.,\n",
       "       242., 243., 244., 245., 246., 247., 248., 249.])"
      ]
     },
     "execution_count": 99,
     "metadata": {},
     "output_type": "execute_result"
    }
   ],
   "source": [
    "# Уникальные значения 2 признака\n",
    "np.unique(cat_enc_oe[:, 1])"
   ]
  },
  {
   "cell_type": "code",
   "execution_count": 100,
   "metadata": {},
   "outputs": [
    {
     "data": {
      "text/plain": [
       "array([ 0.,  1.,  2.,  3.,  4.,  5.,  6.,  7.,  8.,  9., 10., 11., 12.,\n",
       "       13., 14., 15., 16., 17., 18., 19., 20., 21., 22.])"
      ]
     },
     "execution_count": 100,
     "metadata": {},
     "output_type": "execute_result"
    }
   ],
   "source": [
    "# Уникальные значения 3 признака\n",
    "np.unique(cat_enc_oe[:, 2])"
   ]
  },
  {
   "cell_type": "code",
   "execution_count": 101,
   "metadata": {},
   "outputs": [
    {
     "data": {
      "text/plain": [
       "[array(['Afghanistan', 'Albania', 'Algeria', 'American Samoa', 'Andorra',\n",
       "        'Angola', 'Anguilla', 'Antarctica', 'Antigua and Barbuda',\n",
       "        'Argentina', 'Armenia', 'Aruba', 'Australia', 'Austria',\n",
       "        'Azerbaijan', 'Bahamas', 'Bahrain', 'Bangladesh', 'Barbados',\n",
       "        'Belarus', 'Belgium', 'Belize', 'Benin', 'Bermuda', 'Bhutan',\n",
       "        'Bolivia', 'Bonaire, Sint Eustatius and Saba',\n",
       "        'Bosnia and Herzegovina', 'Botswana', 'Bouvet Island', 'Brazil',\n",
       "        'British Indian Ocean Territory', 'British Virgin Islands',\n",
       "        'Brunei Darussalam', 'Bulgaria', 'Burkina Faso', 'Burundi',\n",
       "        'Cabo Verde', 'Cambodia', 'Cameroon', 'Canada', 'Cayman Islands',\n",
       "        'Central African Republic', 'Chad', 'Chile', 'China',\n",
       "        'Christmas Island', 'Cocos (Keeling) Islands', 'Colombia',\n",
       "        'Comoros', 'Congo', 'Cook Islands', 'Costa Rica', 'Croatia',\n",
       "        'Cuba', 'Curaçao', 'Cyprus', 'Czechia', 'Côte d’Ivoire',\n",
       "        'Democratic Republic of the Congo', 'Denmark', 'Djibouti',\n",
       "        'Dominica', 'Dominican Republic', 'Ecuador', 'Egypt',\n",
       "        'El Salvador', 'Equatorial Guinea', 'Eritrea', 'Estonia',\n",
       "        'Eswatini', 'Ethiopia', 'Falkland Islands', 'Faroe Islands',\n",
       "        'Fiji', 'Finland', 'France', 'French Guiana', 'French Polynesia',\n",
       "        'French Southern Territories', 'Gabon', 'Gambia', 'Georgia',\n",
       "        'Germany', 'Ghana', 'Gibraltar', 'Greece', 'Greenland', 'Grenada',\n",
       "        'Guadeloupe', 'Guam', 'Guatemala', 'Guernsey', 'Guinea',\n",
       "        'Guinea-Bissau', 'Guyana', 'Haiti',\n",
       "        'Heard Island and McDonald Islands', 'Holy See', 'Honduras',\n",
       "        'Hong Kong', 'Hungary', 'Iceland', 'India', 'Indonesia', 'Iran',\n",
       "        'Iraq', 'Ireland', 'Isle of Man', 'Israel', 'Italy', 'Jamaica',\n",
       "        'Japan', 'Jersey', 'Jordan', 'Kazakhstan', 'Kenya', 'Kiribati',\n",
       "        'Kuwait', 'Kyrgyzstan', 'Laos', 'Latvia', 'Lebanon', 'Lesotho',\n",
       "        'Liberia', 'Libya', 'Liechtenstein', 'Lithuania', 'Luxembourg',\n",
       "        'Macao', 'Madagascar', 'Malawi', 'Malaysia', 'Maldives', 'Mali',\n",
       "        'Malta', 'Marshall Islands', 'Martinique', 'Mauritania',\n",
       "        'Mauritius', 'Mayotte', 'Mexico', 'Micronesia', 'Moldova',\n",
       "        'Monaco', 'Mongolia', 'Montenegro', 'Montserrat', 'Morocco',\n",
       "        'Mozambique', 'Myanmar', 'Namibia', 'Nauru', 'Nepal',\n",
       "        'Netherlands', 'New Caledonia', 'New Zealand', 'Nicaragua',\n",
       "        'Niger', 'Nigeria', 'Niue', 'Norfolk Island', 'North Korea',\n",
       "        'North Macedonia', 'Northern Mariana Islands', 'Norway', 'Oman',\n",
       "        'Pakistan', 'Palau', 'Palestine', 'Panama', 'Papua New Guinea',\n",
       "        'Paraguay', 'Peru', 'Philippines', 'Pitcairn', 'Poland',\n",
       "        'Portugal', 'Puerto Rico', 'Qatar', 'Romania', 'Russia', 'Rwanda',\n",
       "        'Réunion', 'Saint Barthélemy', 'Saint Helena',\n",
       "        'Saint Kitts and Nevis', 'Saint Lucia',\n",
       "        'Saint Martin (French Part)', 'Saint Pierre and Miquelon',\n",
       "        'Saint Vincent and the Grenadines', 'Samoa', 'San Marino',\n",
       "        'Sao Tome and Principe', 'Sark', 'Saudi Arabia', 'Senegal',\n",
       "        'Serbia', 'Seychelles', 'Sierra Leone', 'Singapore',\n",
       "        'Sint Maarten (Dutch part)', 'Slovakia', 'Slovenia',\n",
       "        'Solomon Islands', 'Somalia', 'South Africa',\n",
       "        'South Georgia and the South Sandwich Islands', 'South Korea',\n",
       "        'South Sudan', 'Spain', 'Sri Lanka', 'Sudan', 'Suriname',\n",
       "        'Svalbard and Jan Mayen Islands', 'Sweden', 'Switzerland', 'Syria',\n",
       "        'Taiwan', 'Tajikistan', 'Tanzania', 'Thailand', 'Timor-Leste',\n",
       "        'Togo', 'Tokelau', 'Tonga', 'Trinidad and Tobago', 'Tunisia',\n",
       "        'Turkey', 'Turkmenistan', 'Turks and Caicos Islands', 'Tuvalu',\n",
       "        'Uganda', 'Ukraine', 'United Arab Emirates', 'United Kingdom',\n",
       "        'United States', 'United States Minor Outlying Islands',\n",
       "        'United States Virgin Islands', 'Uruguay', 'Uzbekistan', 'Vanuatu',\n",
       "        'Venezuela', 'Vietnam', 'Wallis and Futuna Islands',\n",
       "        'Western Sahara', 'Yemen', 'Zambia', 'Zimbabwe', 'Åland Islands'],\n",
       "       dtype=object),\n",
       " array(['ABW', 'AFG', 'AGO', 'AIA', 'ALA', 'ALB', 'AND', 'ARE', 'ARG',\n",
       "        'ARM', 'ASM', 'ATA', 'ATF', 'ATG', 'AUS', 'AUT', 'AZE', 'BDI',\n",
       "        'BEL', 'BEN', 'BES', 'BFA', 'BGD', 'BGR', 'BHR', 'BHS', 'BIH',\n",
       "        'BLM', 'BLR', 'BLZ', 'BMU', 'BOL', 'BRA', 'BRB', 'BRN', 'BTN',\n",
       "        'BVT', 'BWA', 'CAF', 'CAN', 'CCK', 'CHE', 'CHL', 'CHN', 'CIV',\n",
       "        'CMR', 'COD', 'COG', 'COK', 'COL', 'COM', 'CPV', 'CRI', 'CUB',\n",
       "        'CUW', 'CXR', 'CYM', 'CYP', 'CZE', 'DEU', 'DJI', 'DMA', 'DNK',\n",
       "        'DOM', 'DZA', 'ECU', 'EGY', 'ERI', 'ESH', 'ESP', 'EST', 'ETH',\n",
       "        'FIN', 'FJI', 'FLK', 'FRA', 'FRO', 'FSM', 'GAB', 'GBR', 'GEO',\n",
       "        'GGY', 'GHA', 'GIB', 'GIN', 'GLP', 'GMB', 'GNB', 'GNQ', 'GRC',\n",
       "        'GRD', 'GRL', 'GTM', 'GUF', 'GUM', 'GUY', 'HKG', 'HMD', 'HND',\n",
       "        'HRV', 'HTI', 'HUN', 'IDN', 'IMN', 'IND', 'IOT', 'IRL', 'IRN',\n",
       "        'IRQ', 'ISL', 'ISR', 'ITA', 'JAM', 'JEY', 'JOR', 'JPN', 'KAZ',\n",
       "        'KEN', 'KGZ', 'KHM', 'KIR', 'KNA', 'KOR', 'KWT', 'LAO', 'LBN',\n",
       "        'LBR', 'LBY', 'LCA', 'LIE', 'LKA', 'LSO', 'LTU', 'LUX', 'LVA',\n",
       "        'MAC', 'MAF', 'MAR', 'MCO', 'MDA', 'MDG', 'MDV', 'MEX', 'MHL',\n",
       "        'MKD', 'MLI', 'MLT', 'MMR', 'MNE', 'MNG', 'MNP', 'MOZ', 'MRT',\n",
       "        'MSR', 'MTQ', 'MUS', 'MWI', 'MYS', 'MYT', 'NA', 'NAM', 'NCL',\n",
       "        'NER', 'NFK', 'NGA', 'NIC', 'NIU', 'NLD', 'NOR', 'NPL', 'NRU',\n",
       "        'NZL', 'OMN', 'PAK', 'PAN', 'PCN', 'PER', 'PHL', 'PLW', 'PNG',\n",
       "        'POL', 'PRI', 'PRK', 'PRT', 'PRY', 'PSE', 'PYF', 'QAT', 'REU',\n",
       "        'ROU', 'RUS', 'RWA', 'SAU', 'SDN', 'SEN', 'SGP', 'SGS', 'SHN',\n",
       "        'SJM', 'SLB', 'SLE', 'SLV', 'SMR', 'SOM', 'SPM', 'SRB', 'SSD',\n",
       "        'STP', 'SUR', 'SVK', 'SVN', 'SWE', 'SWZ', 'SXM', 'SYC', 'SYR',\n",
       "        'TCA', 'TCD', 'TGO', 'THA', 'TJK', 'TKL', 'TKM', 'TLS', 'TON',\n",
       "        'TTO', 'TUN', 'TUR', 'TUV', 'TWN', 'TZA', 'UGA', 'UKR', 'UMI',\n",
       "        'URY', 'USA', 'UZB', 'VAT', 'VCT', 'VEN', 'VGB', 'VIR', 'VNM',\n",
       "        'VUT', 'WLF', 'WSM', 'YEM', 'ZAF', 'ZMB', 'ZWE'], dtype=object),\n",
       " array(['Antarctica', 'Australia and New Zealand', 'Caribbean',\n",
       "        'Central America', 'Central Asia', 'Eastern Africa',\n",
       "        'Eastern Asia', 'Eastern Europe', 'Melanesia', 'Micronesia',\n",
       "        'Middle Africa', 'Northern Africa', 'Northern America',\n",
       "        'Northern Europe', 'Polynesia', 'South America',\n",
       "        'South-eastern Asia', 'Southern Africa', 'Southern Asia',\n",
       "        'Southern Europe', 'Western Africa', 'Western Asia',\n",
       "        'Western Europe'], dtype=object),\n",
       " array(['Channel Islands', 'Latin America and the Caribbean', 'NA', 'None',\n",
       "        'Province of China', 'Special Administrative Region of China',\n",
       "        'Sub-Saharan Africa'], dtype=object),\n",
       " array(['Africa', 'Antarctica', 'Asia', 'Europe', 'North America',\n",
       "        'Oceania', 'South America'], dtype=object),\n",
       " array(['1/01/2019', '1/01/2021', '1/01/2022', '1/02/2022', '1/03/2022',\n",
       "        '1/04/2020', '1/04/2021', '1/04/2022', '1/07/2018', '1/07/2019',\n",
       "        '1/07/2020', '1/07/2021', '1/10/2021', '1/11/2021', '1/12/2021',\n",
       "        '11/11/2021', '15/12/2017', '17/03/2020', '18/05/2022',\n",
       "        '22/03/2021', '23/05/2022', '27/06/2021', '28/02/2022',\n",
       "        '3/03/2019', '30/03/2022', '30/05/2021', '30/05/2022',\n",
       "        '30/06/2020', '30/06/2021', '30/09/2020', '30/09/2021',\n",
       "        '31/03/2021', '31/03/2022', '31/07/2019', '31/08/2019',\n",
       "        '31/08/2021', '31/12/2019', '31/12/2020', '31/12/2021',\n",
       "        '7/09/2021', 'NA'], dtype=object)]"
      ]
     },
     "execution_count": 101,
     "metadata": {},
     "output_type": "execute_result"
    }
   ],
   "source": [
    "# Наименования категорий в соответствии с порядковыми номерами\n",
    "oe.categories_"
   ]
  },
  {
   "cell_type": "code",
   "execution_count": 102,
   "metadata": {},
   "outputs": [
    {
     "data": {
      "text/plain": [
       "array([['Afghanistan', 'AFG', 'Southern Asia', 'None', 'Asia',\n",
       "        '1/07/2020'],\n",
       "       ['Åland Islands', 'ALA', 'Northern Europe', 'None', 'Europe',\n",
       "        '31/12/2021'],\n",
       "       ['Albania', 'ALB', 'Southern Europe', 'None', 'Europe',\n",
       "        '1/01/2021'],\n",
       "       ...,\n",
       "       ['Zambia', 'ZMB', 'Eastern Africa', 'Sub-Saharan Africa',\n",
       "        'Africa', '1/07/2021'],\n",
       "       ['Zimbabwe', 'ZWE', 'Eastern Africa', 'Sub-Saharan Africa',\n",
       "        'Africa', '1/07/2021'],\n",
       "       ['Taiwan', 'TWN', 'Eastern Asia', 'Province of China', 'Asia',\n",
       "        '31/12/2021']], dtype=object)"
      ]
     },
     "execution_count": 102,
     "metadata": {},
     "output_type": "execute_result"
    }
   ],
   "source": [
    "# Обратное преобразование\n",
    "oe.inverse_transform(cat_enc_oe)"
   ]
  },
  {
   "cell_type": "markdown",
   "metadata": {},
   "source": [
    "### Кодирование шкал порядка\n",
    "\n",
    "Библиотека scikit-learn не предоставляет готового решения для кодирования шкал порядка, но можно воспользоваться [функцией map для отдельных объектов Series.](https://pandas.pydata.org/docs/reference/api/pandas.Series.map.html)"
   ]
  },
  {
   "cell_type": "code",
   "execution_count": 103,
   "metadata": {},
   "outputs": [],
   "source": [
    "# пример шкалы порядка 'small' < 'medium' < 'large'\n",
    "sizes = ['small', 'medium', 'large', 'small', 'medium', 'large', 'small', 'medium', 'large']"
   ]
  },
  {
   "cell_type": "code",
   "execution_count": 104,
   "metadata": {},
   "outputs": [
    {
     "data": {
      "text/html": [
       "<div>\n",
       "<style scoped>\n",
       "    .dataframe tbody tr th:only-of-type {\n",
       "        vertical-align: middle;\n",
       "    }\n",
       "\n",
       "    .dataframe tbody tr th {\n",
       "        vertical-align: top;\n",
       "    }\n",
       "\n",
       "    .dataframe thead th {\n",
       "        text-align: right;\n",
       "    }\n",
       "</style>\n",
       "<table border=\"1\" class=\"dataframe\">\n",
       "  <thead>\n",
       "    <tr style=\"text-align: right;\">\n",
       "      <th></th>\n",
       "      <th>sizes</th>\n",
       "    </tr>\n",
       "  </thead>\n",
       "  <tbody>\n",
       "    <tr>\n",
       "      <th>0</th>\n",
       "      <td>small</td>\n",
       "    </tr>\n",
       "    <tr>\n",
       "      <th>1</th>\n",
       "      <td>medium</td>\n",
       "    </tr>\n",
       "    <tr>\n",
       "      <th>2</th>\n",
       "      <td>large</td>\n",
       "    </tr>\n",
       "    <tr>\n",
       "      <th>3</th>\n",
       "      <td>small</td>\n",
       "    </tr>\n",
       "    <tr>\n",
       "      <th>4</th>\n",
       "      <td>medium</td>\n",
       "    </tr>\n",
       "    <tr>\n",
       "      <th>5</th>\n",
       "      <td>large</td>\n",
       "    </tr>\n",
       "    <tr>\n",
       "      <th>6</th>\n",
       "      <td>small</td>\n",
       "    </tr>\n",
       "    <tr>\n",
       "      <th>7</th>\n",
       "      <td>medium</td>\n",
       "    </tr>\n",
       "    <tr>\n",
       "      <th>8</th>\n",
       "      <td>large</td>\n",
       "    </tr>\n",
       "  </tbody>\n",
       "</table>\n",
       "</div>"
      ],
      "text/plain": [
       "    sizes\n",
       "0   small\n",
       "1  medium\n",
       "2   large\n",
       "3   small\n",
       "4  medium\n",
       "5   large\n",
       "6   small\n",
       "7  medium\n",
       "8   large"
      ]
     },
     "execution_count": 104,
     "metadata": {},
     "output_type": "execute_result"
    }
   ],
   "source": [
    "pd_sizes = pd.DataFrame(data={'sizes':sizes})\n",
    "pd_sizes"
   ]
  },
  {
   "cell_type": "code",
   "execution_count": 105,
   "metadata": {},
   "outputs": [
    {
     "data": {
      "text/html": [
       "<div>\n",
       "<style scoped>\n",
       "    .dataframe tbody tr th:only-of-type {\n",
       "        vertical-align: middle;\n",
       "    }\n",
       "\n",
       "    .dataframe tbody tr th {\n",
       "        vertical-align: top;\n",
       "    }\n",
       "\n",
       "    .dataframe thead th {\n",
       "        text-align: right;\n",
       "    }\n",
       "</style>\n",
       "<table border=\"1\" class=\"dataframe\">\n",
       "  <thead>\n",
       "    <tr style=\"text-align: right;\">\n",
       "      <th></th>\n",
       "      <th>sizes</th>\n",
       "      <th>sizes_codes</th>\n",
       "    </tr>\n",
       "  </thead>\n",
       "  <tbody>\n",
       "    <tr>\n",
       "      <th>0</th>\n",
       "      <td>small</td>\n",
       "      <td>1</td>\n",
       "    </tr>\n",
       "    <tr>\n",
       "      <th>1</th>\n",
       "      <td>medium</td>\n",
       "      <td>2</td>\n",
       "    </tr>\n",
       "    <tr>\n",
       "      <th>2</th>\n",
       "      <td>large</td>\n",
       "      <td>3</td>\n",
       "    </tr>\n",
       "    <tr>\n",
       "      <th>3</th>\n",
       "      <td>small</td>\n",
       "      <td>1</td>\n",
       "    </tr>\n",
       "    <tr>\n",
       "      <th>4</th>\n",
       "      <td>medium</td>\n",
       "      <td>2</td>\n",
       "    </tr>\n",
       "    <tr>\n",
       "      <th>5</th>\n",
       "      <td>large</td>\n",
       "      <td>3</td>\n",
       "    </tr>\n",
       "    <tr>\n",
       "      <th>6</th>\n",
       "      <td>small</td>\n",
       "      <td>1</td>\n",
       "    </tr>\n",
       "    <tr>\n",
       "      <th>7</th>\n",
       "      <td>medium</td>\n",
       "      <td>2</td>\n",
       "    </tr>\n",
       "    <tr>\n",
       "      <th>8</th>\n",
       "      <td>large</td>\n",
       "      <td>3</td>\n",
       "    </tr>\n",
       "  </tbody>\n",
       "</table>\n",
       "</div>"
      ],
      "text/plain": [
       "    sizes  sizes_codes\n",
       "0   small            1\n",
       "1  medium            2\n",
       "2   large            3\n",
       "3   small            1\n",
       "4  medium            2\n",
       "5   large            3\n",
       "6   small            1\n",
       "7  medium            2\n",
       "8   large            3"
      ]
     },
     "execution_count": 105,
     "metadata": {},
     "output_type": "execute_result"
    }
   ],
   "source": [
    "pd_sizes['sizes_codes'] = pd_sizes['sizes'].map({'small':1, 'medium':2, 'large':3})\n",
    "pd_sizes"
   ]
  },
  {
   "cell_type": "code",
   "execution_count": 106,
   "metadata": {},
   "outputs": [
    {
     "data": {
      "text/html": [
       "<div>\n",
       "<style scoped>\n",
       "    .dataframe tbody tr th:only-of-type {\n",
       "        vertical-align: middle;\n",
       "    }\n",
       "\n",
       "    .dataframe tbody tr th {\n",
       "        vertical-align: top;\n",
       "    }\n",
       "\n",
       "    .dataframe thead th {\n",
       "        text-align: right;\n",
       "    }\n",
       "</style>\n",
       "<table border=\"1\" class=\"dataframe\">\n",
       "  <thead>\n",
       "    <tr style=\"text-align: right;\">\n",
       "      <th></th>\n",
       "      <th>sizes</th>\n",
       "      <th>sizes_codes</th>\n",
       "      <th>sizes_decoded</th>\n",
       "    </tr>\n",
       "  </thead>\n",
       "  <tbody>\n",
       "    <tr>\n",
       "      <th>0</th>\n",
       "      <td>small</td>\n",
       "      <td>1</td>\n",
       "      <td>small</td>\n",
       "    </tr>\n",
       "    <tr>\n",
       "      <th>1</th>\n",
       "      <td>medium</td>\n",
       "      <td>2</td>\n",
       "      <td>medium</td>\n",
       "    </tr>\n",
       "    <tr>\n",
       "      <th>2</th>\n",
       "      <td>large</td>\n",
       "      <td>3</td>\n",
       "      <td>large</td>\n",
       "    </tr>\n",
       "    <tr>\n",
       "      <th>3</th>\n",
       "      <td>small</td>\n",
       "      <td>1</td>\n",
       "      <td>small</td>\n",
       "    </tr>\n",
       "    <tr>\n",
       "      <th>4</th>\n",
       "      <td>medium</td>\n",
       "      <td>2</td>\n",
       "      <td>medium</td>\n",
       "    </tr>\n",
       "    <tr>\n",
       "      <th>5</th>\n",
       "      <td>large</td>\n",
       "      <td>3</td>\n",
       "      <td>large</td>\n",
       "    </tr>\n",
       "    <tr>\n",
       "      <th>6</th>\n",
       "      <td>small</td>\n",
       "      <td>1</td>\n",
       "      <td>small</td>\n",
       "    </tr>\n",
       "    <tr>\n",
       "      <th>7</th>\n",
       "      <td>medium</td>\n",
       "      <td>2</td>\n",
       "      <td>medium</td>\n",
       "    </tr>\n",
       "    <tr>\n",
       "      <th>8</th>\n",
       "      <td>large</td>\n",
       "      <td>3</td>\n",
       "      <td>large</td>\n",
       "    </tr>\n",
       "  </tbody>\n",
       "</table>\n",
       "</div>"
      ],
      "text/plain": [
       "    sizes  sizes_codes sizes_decoded\n",
       "0   small            1         small\n",
       "1  medium            2        medium\n",
       "2   large            3         large\n",
       "3   small            1         small\n",
       "4  medium            2        medium\n",
       "5   large            3         large\n",
       "6   small            1         small\n",
       "7  medium            2        medium\n",
       "8   large            3         large"
      ]
     },
     "execution_count": 106,
     "metadata": {},
     "output_type": "execute_result"
    }
   ],
   "source": [
    "pd_sizes['sizes_decoded'] = pd_sizes['sizes_codes'].map({1:'small', 2:'medium', 3:'large'})\n",
    "pd_sizes"
   ]
  },
  {
   "cell_type": "markdown",
   "metadata": {},
   "source": [
    "## Кодирование категорий наборами бинарных значений - [one-hot encoding](https://scikit-learn.org/stable/modules/generated/sklearn.preprocessing.OneHotEncoder.html)\n",
    "\n",
    "В этом случае каждое уникальное значение признака становится новым отдельным признаком."
   ]
  },
  {
   "cell_type": "code",
   "execution_count": 107,
   "metadata": {},
   "outputs": [],
   "source": [
    "from sklearn.preprocessing import OneHotEncoder"
   ]
  },
  {
   "cell_type": "code",
   "execution_count": 108,
   "metadata": {},
   "outputs": [],
   "source": [
    "ohe = OneHotEncoder()\n",
    "cat_enc_ohe = ohe.fit_transform(cat_enc[['c1']])"
   ]
  },
  {
   "cell_type": "code",
   "execution_count": 109,
   "metadata": {},
   "outputs": [
    {
     "data": {
      "text/plain": [
       "(250, 1)"
      ]
     },
     "execution_count": 109,
     "metadata": {},
     "output_type": "execute_result"
    }
   ],
   "source": [
    "cat_enc.shape"
   ]
  },
  {
   "cell_type": "code",
   "execution_count": 110,
   "metadata": {},
   "outputs": [
    {
     "data": {
      "text/plain": [
       "(250, 6)"
      ]
     },
     "execution_count": 110,
     "metadata": {},
     "output_type": "execute_result"
    }
   ],
   "source": [
    "cat_enc_ohe.shape"
   ]
  },
  {
   "cell_type": "code",
   "execution_count": 111,
   "metadata": {},
   "outputs": [
    {
     "data": {
      "text/plain": [
       "<250x6 sparse matrix of type '<class 'numpy.float64'>'\n",
       "\twith 250 stored elements in Compressed Sparse Row format>"
      ]
     },
     "execution_count": 111,
     "metadata": {},
     "output_type": "execute_result"
    }
   ],
   "source": [
    "cat_enc_ohe"
   ]
  },
  {
   "cell_type": "code",
   "execution_count": 112,
   "metadata": {},
   "outputs": [
    {
     "data": {
      "text/plain": [
       "matrix([[0., 0., 1., 0., 0., 0.],\n",
       "        [0., 0., 1., 0., 0., 0.],\n",
       "        [0., 0., 1., 0., 0., 0.],\n",
       "        [0., 0., 1., 0., 0., 0.],\n",
       "        [0., 0., 1., 0., 0., 0.],\n",
       "        [0., 0., 1., 0., 0., 0.],\n",
       "        [0., 0., 0., 0., 0., 1.],\n",
       "        [0., 1., 0., 0., 0., 0.],\n",
       "        [0., 0., 1., 0., 0., 0.],\n",
       "        [0., 1., 0., 0., 0., 0.]])"
      ]
     },
     "execution_count": 112,
     "metadata": {},
     "output_type": "execute_result"
    }
   ],
   "source": [
    "cat_enc_ohe.todense()[0:10]"
   ]
  },
  {
   "cell_type": "code",
   "execution_count": 113,
   "metadata": {},
   "outputs": [
    {
     "data": {
      "text/html": [
       "<div>\n",
       "<style scoped>\n",
       "    .dataframe tbody tr th:only-of-type {\n",
       "        vertical-align: middle;\n",
       "    }\n",
       "\n",
       "    .dataframe tbody tr th {\n",
       "        vertical-align: top;\n",
       "    }\n",
       "\n",
       "    .dataframe thead th {\n",
       "        text-align: right;\n",
       "    }\n",
       "</style>\n",
       "<table border=\"1\" class=\"dataframe\">\n",
       "  <thead>\n",
       "    <tr style=\"text-align: right;\">\n",
       "      <th></th>\n",
       "      <th>c1</th>\n",
       "    </tr>\n",
       "  </thead>\n",
       "  <tbody>\n",
       "    <tr>\n",
       "      <th>0</th>\n",
       "      <td>None</td>\n",
       "    </tr>\n",
       "    <tr>\n",
       "      <th>1</th>\n",
       "      <td>None</td>\n",
       "    </tr>\n",
       "    <tr>\n",
       "      <th>2</th>\n",
       "      <td>None</td>\n",
       "    </tr>\n",
       "    <tr>\n",
       "      <th>3</th>\n",
       "      <td>None</td>\n",
       "    </tr>\n",
       "    <tr>\n",
       "      <th>4</th>\n",
       "      <td>None</td>\n",
       "    </tr>\n",
       "    <tr>\n",
       "      <th>5</th>\n",
       "      <td>None</td>\n",
       "    </tr>\n",
       "    <tr>\n",
       "      <th>6</th>\n",
       "      <td>Sub-Saharan Africa</td>\n",
       "    </tr>\n",
       "    <tr>\n",
       "      <th>7</th>\n",
       "      <td>Latin America and the Caribbean</td>\n",
       "    </tr>\n",
       "    <tr>\n",
       "      <th>8</th>\n",
       "      <td>None</td>\n",
       "    </tr>\n",
       "    <tr>\n",
       "      <th>9</th>\n",
       "      <td>Latin America and the Caribbean</td>\n",
       "    </tr>\n",
       "  </tbody>\n",
       "</table>\n",
       "</div>"
      ],
      "text/plain": [
       "                                c1\n",
       "0                             None\n",
       "1                             None\n",
       "2                             None\n",
       "3                             None\n",
       "4                             None\n",
       "5                             None\n",
       "6               Sub-Saharan Africa\n",
       "7  Latin America and the Caribbean\n",
       "8                             None\n",
       "9  Latin America and the Caribbean"
      ]
     },
     "execution_count": 113,
     "metadata": {},
     "output_type": "execute_result"
    }
   ],
   "source": [
    "cat_enc.head(10)"
   ]
  },
  {
   "cell_type": "markdown",
   "metadata": {},
   "source": [
    "## [Pandas get_dummies](https://pandas.pydata.org/pandas-docs/stable/reference/api/pandas.get_dummies.html) - быстрый вариант one-hot кодирования"
   ]
  },
  {
   "cell_type": "code",
   "execution_count": 115,
   "metadata": {},
   "outputs": [
    {
     "data": {
      "text/html": [
       "<div>\n",
       "<style scoped>\n",
       "    .dataframe tbody tr th:only-of-type {\n",
       "        vertical-align: middle;\n",
       "    }\n",
       "\n",
       "    .dataframe tbody tr th {\n",
       "        vertical-align: top;\n",
       "    }\n",
       "\n",
       "    .dataframe thead th {\n",
       "        text-align: right;\n",
       "    }\n",
       "</style>\n",
       "<table border=\"1\" class=\"dataframe\">\n",
       "  <thead>\n",
       "    <tr style=\"text-align: right;\">\n",
       "      <th></th>\n",
       "      <th>c1_Channel Islands</th>\n",
       "      <th>c1_Latin America and the Caribbean</th>\n",
       "      <th>c1_None</th>\n",
       "      <th>c1_Province of China</th>\n",
       "      <th>c1_Special Administrative Region of China</th>\n",
       "      <th>c1_Sub-Saharan Africa</th>\n",
       "    </tr>\n",
       "  </thead>\n",
       "  <tbody>\n",
       "    <tr>\n",
       "      <th>0</th>\n",
       "      <td>0</td>\n",
       "      <td>0</td>\n",
       "      <td>1</td>\n",
       "      <td>0</td>\n",
       "      <td>0</td>\n",
       "      <td>0</td>\n",
       "    </tr>\n",
       "    <tr>\n",
       "      <th>1</th>\n",
       "      <td>0</td>\n",
       "      <td>0</td>\n",
       "      <td>1</td>\n",
       "      <td>0</td>\n",
       "      <td>0</td>\n",
       "      <td>0</td>\n",
       "    </tr>\n",
       "    <tr>\n",
       "      <th>2</th>\n",
       "      <td>0</td>\n",
       "      <td>0</td>\n",
       "      <td>1</td>\n",
       "      <td>0</td>\n",
       "      <td>0</td>\n",
       "      <td>0</td>\n",
       "    </tr>\n",
       "    <tr>\n",
       "      <th>3</th>\n",
       "      <td>0</td>\n",
       "      <td>0</td>\n",
       "      <td>1</td>\n",
       "      <td>0</td>\n",
       "      <td>0</td>\n",
       "      <td>0</td>\n",
       "    </tr>\n",
       "    <tr>\n",
       "      <th>4</th>\n",
       "      <td>0</td>\n",
       "      <td>0</td>\n",
       "      <td>1</td>\n",
       "      <td>0</td>\n",
       "      <td>0</td>\n",
       "      <td>0</td>\n",
       "    </tr>\n",
       "  </tbody>\n",
       "</table>\n",
       "</div>"
      ],
      "text/plain": [
       "   c1_Channel Islands  c1_Latin America and the Caribbean  c1_None  \\\n",
       "0                   0                                   0        1   \n",
       "1                   0                                   0        1   \n",
       "2                   0                                   0        1   \n",
       "3                   0                                   0        1   \n",
       "4                   0                                   0        1   \n",
       "\n",
       "   c1_Province of China  c1_Special Administrative Region of China  \\\n",
       "0                     0                                          0   \n",
       "1                     0                                          0   \n",
       "2                     0                                          0   \n",
       "3                     0                                          0   \n",
       "4                     0                                          0   \n",
       "\n",
       "   c1_Sub-Saharan Africa  \n",
       "0                      0  \n",
       "1                      0  \n",
       "2                      0  \n",
       "3                      0  \n",
       "4                      0  "
      ]
     },
     "execution_count": 115,
     "metadata": {},
     "output_type": "execute_result"
    }
   ],
   "source": [
    "pd.get_dummies(cat_enc).head()"
   ]
  },
  {
   "cell_type": "code",
   "execution_count": 116,
   "metadata": {},
   "outputs": [
    {
     "data": {
      "text/html": [
       "<div>\n",
       "<style scoped>\n",
       "    .dataframe tbody tr th:only-of-type {\n",
       "        vertical-align: middle;\n",
       "    }\n",
       "\n",
       "    .dataframe tbody tr th {\n",
       "        vertical-align: top;\n",
       "    }\n",
       "\n",
       "    .dataframe thead th {\n",
       "        text-align: right;\n",
       "    }\n",
       "</style>\n",
       "<table border=\"1\" class=\"dataframe\">\n",
       "  <thead>\n",
       "    <tr style=\"text-align: right;\">\n",
       "      <th></th>\n",
       "      <th>region_2_Channel Islands</th>\n",
       "      <th>region_2_Latin America and the Caribbean</th>\n",
       "      <th>region_2_None</th>\n",
       "      <th>region_2_Province of China</th>\n",
       "      <th>region_2_Special Administrative Region of China</th>\n",
       "      <th>region_2_Sub-Saharan Africa</th>\n",
       "      <th>region_2_nan</th>\n",
       "    </tr>\n",
       "  </thead>\n",
       "  <tbody>\n",
       "    <tr>\n",
       "      <th>0</th>\n",
       "      <td>0</td>\n",
       "      <td>0</td>\n",
       "      <td>1</td>\n",
       "      <td>0</td>\n",
       "      <td>0</td>\n",
       "      <td>0</td>\n",
       "      <td>0</td>\n",
       "    </tr>\n",
       "    <tr>\n",
       "      <th>1</th>\n",
       "      <td>0</td>\n",
       "      <td>0</td>\n",
       "      <td>1</td>\n",
       "      <td>0</td>\n",
       "      <td>0</td>\n",
       "      <td>0</td>\n",
       "      <td>0</td>\n",
       "    </tr>\n",
       "    <tr>\n",
       "      <th>2</th>\n",
       "      <td>0</td>\n",
       "      <td>0</td>\n",
       "      <td>1</td>\n",
       "      <td>0</td>\n",
       "      <td>0</td>\n",
       "      <td>0</td>\n",
       "      <td>0</td>\n",
       "    </tr>\n",
       "    <tr>\n",
       "      <th>3</th>\n",
       "      <td>0</td>\n",
       "      <td>0</td>\n",
       "      <td>1</td>\n",
       "      <td>0</td>\n",
       "      <td>0</td>\n",
       "      <td>0</td>\n",
       "      <td>0</td>\n",
       "    </tr>\n",
       "    <tr>\n",
       "      <th>4</th>\n",
       "      <td>0</td>\n",
       "      <td>0</td>\n",
       "      <td>1</td>\n",
       "      <td>0</td>\n",
       "      <td>0</td>\n",
       "      <td>0</td>\n",
       "      <td>0</td>\n",
       "    </tr>\n",
       "  </tbody>\n",
       "</table>\n",
       "</div>"
      ],
      "text/plain": [
       "   region_2_Channel Islands  region_2_Latin America and the Caribbean  \\\n",
       "0                         0                                         0   \n",
       "1                         0                                         0   \n",
       "2                         0                                         0   \n",
       "3                         0                                         0   \n",
       "4                         0                                         0   \n",
       "\n",
       "   region_2_None  region_2_Province of China  \\\n",
       "0              1                           0   \n",
       "1              1                           0   \n",
       "2              1                           0   \n",
       "3              1                           0   \n",
       "4              1                           0   \n",
       "\n",
       "   region_2_Special Administrative Region of China  \\\n",
       "0                                                0   \n",
       "1                                                0   \n",
       "2                                                0   \n",
       "3                                                0   \n",
       "4                                                0   \n",
       "\n",
       "   region_2_Sub-Saharan Africa  region_2_nan  \n",
       "0                            0             0  \n",
       "1                            0             0  \n",
       "2                            0             0  \n",
       "3                            0             0  \n",
       "4                            0             0  "
      ]
     },
     "execution_count": 116,
     "metadata": {},
     "output_type": "execute_result"
    }
   ],
   "source": [
    "pd.get_dummies(cat_temp_data, dummy_na=True).head()"
   ]
  },
  {
   "cell_type": "markdown",
   "metadata": {},
   "source": [
    "# Масштабирование данных"
   ]
  },
  {
   "cell_type": "markdown",
   "metadata": {},
   "source": [
    "Термины \"масштабирование\" и \"нормализация\" часто используются как синонимы, но это неверно. Масштабирование предполагает изменение диапазона измерения величины, а нормализация - изменение распределения этой величины. В этом разделе рассматривается только масштабирование.\n",
    "\n",
    "Если признаки лежат в различных диапазонах, то необходимо их нормализовать. Как правило, применяют два подхода:\n",
    "- MinMax масштабирование:\n",
    "$$ x_{новый} = \\frac{x_{старый} - min(X)}{max(X)-min(X)} $$\n",
    "\n",
    "В этом случае значения лежат в диапазоне от 0 до 1.\n",
    "- Масштабирование данных на основе [Z-оценки](https://ru.wikipedia.org/wiki/Z-%D0%BE%D1%86%D0%B5%D0%BD%D0%BA%D0%B0):\n",
    "$$ x_{новый} = \\frac{x_{старый} - AVG(X) }{\\sigma(X)} $$\n",
    "\n",
    "В этом случае большинство значений попадает в диапазон от -3 до 3.\n",
    "\n",
    "где $X$ - матрица объект-признак, $AVG(X)$ - среднее значение, $\\sigma$ - среднеквадратичное отклонение."
   ]
  },
  {
   "cell_type": "code",
   "execution_count": 117,
   "metadata": {},
   "outputs": [],
   "source": [
    "from sklearn.preprocessing import MinMaxScaler, StandardScaler, Normalizer"
   ]
  },
  {
   "cell_type": "markdown",
   "metadata": {},
   "source": [
    "## [MinMax масштабирование](https://scikit-learn.org/stable/modules/generated/sklearn.preprocessing.MinMaxScaler.html)"
   ]
  },
  {
   "cell_type": "code",
   "execution_count": 118,
   "metadata": {},
   "outputs": [],
   "source": [
    "sc1 = MinMaxScaler()\n",
    "sc1_data = sc1.fit_transform(data[['population']])"
   ]
  },
  {
   "cell_type": "code",
   "execution_count": 119,
   "metadata": {},
   "outputs": [
    {
     "name": "stderr",
     "output_type": "stream",
     "text": [
      "D:\\anaconda\\lib\\site-packages\\numpy\\lib\\histograms.py:839: RuntimeWarning: invalid value encountered in greater_equal\n",
      "  keep = (tmp_a >= first_edge)\n",
      "D:\\anaconda\\lib\\site-packages\\numpy\\lib\\histograms.py:840: RuntimeWarning: invalid value encountered in less_equal\n",
      "  keep &= (tmp_a <= last_edge)\n"
     ]
    },
    {
     "data": {
      "image/png": "[encoded data removed]",
      "text/plain": [
       "<Figure size 432x288 with 1 Axes>"
      ]
     },
     "metadata": {},
     "output_type": "display_data"
    }
   ],
   "source": [
    "plt.hist(data['population'], 50)\n",
    "plt.show()"
   ]
  },
  {
   "cell_type": "code",
   "execution_count": 120,
   "metadata": {},
   "outputs": [
    {
     "data": {
      "image/png": "[encoded data removed]",
      "text/plain": [
       "<Figure size 432x288 with 1 Axes>"
      ]
     },
     "metadata": {},
     "output_type": "display_data"
    }
   ],
   "source": [
    "plt.hist(sc1_data, 50)\n",
    "plt.show()"
   ]
  },
  {
   "cell_type": "markdown",
   "metadata": {},
   "source": [
    "## Масштабирование данных на основе [Z-оценки](https://ru.wikipedia.org/wiki/Z-%D0%BE%D1%86%D0%B5%D0%BD%D0%BA%D0%B0) - [StandardScaler](https://scikit-learn.org/stable/modules/generated/sklearn.preprocessing.StandardScaler.html#sklearn.preprocessing.StandardScaler)"
   ]
  },
  {
   "cell_type": "code",
   "execution_count": 121,
   "metadata": {},
   "outputs": [],
   "source": [
    "sc2 = StandardScaler()\n",
    "sc2_data = sc2.fit_transform(data[['population']])"
   ]
  },
  {
   "cell_type": "code",
   "execution_count": 122,
   "metadata": {},
   "outputs": [
    {
     "name": "stderr",
     "output_type": "stream",
     "text": [
      "D:\\anaconda\\lib\\site-packages\\numpy\\lib\\histograms.py:839: RuntimeWarning: invalid value encountered in greater_equal\n",
      "  keep = (tmp_a >= first_edge)\n",
      "D:\\anaconda\\lib\\site-packages\\numpy\\lib\\histograms.py:840: RuntimeWarning: invalid value encountered in less_equal\n",
      "  keep &= (tmp_a <= last_edge)\n"
     ]
    },
    {
     "data": {
      "image/png": "[encoded data removed]",
      "text/plain": [
       "<Figure size 432x288 with 1 Axes>"
      ]
     },
     "metadata": {},
     "output_type": "display_data"
    }
   ],
   "source": [
    "plt.hist(sc2_data, 50)\n",
    "plt.show()"
   ]
  }
 ],
 "metadata": {
  "kernelspec": {
   "display_name": "Python 3 (ipykernel)",
   "language": "python",
   "name": "python3"
  },
  "language_info": {
   "codemirror_mode": {
    "name": "ipython",
    "version": 3
   },
   "file_extension": ".py",
   "mimetype": "text/x-python",
   "name": "python",
   "nbconvert_exporter": "python",
   "pygments_lexer": "ipython3",
   "version": "3.9.12"
  },
  "toc": {
   "base_numbering": 1,
   "nav_menu": {},
   "number_sections": true,
   "sideBar": true,
   "skip_h1_title": false,
   "title_cell": "Table of Contents",
   "title_sidebar": "Contents",
   "toc_cell": false,
   "toc_position": {},
   "toc_section_display": true,
   "toc_window_display": false
  }
 },
 "nbformat": 4,
 "nbformat_minor": 4
}
